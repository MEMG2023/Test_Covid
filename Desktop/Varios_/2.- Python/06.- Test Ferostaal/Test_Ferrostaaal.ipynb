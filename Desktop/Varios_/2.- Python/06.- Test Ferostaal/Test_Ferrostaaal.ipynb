{
 "cells": [
  {
   "cell_type": "markdown",
   "metadata": {},
   "source": [
    "# TEST FERROSTAAL - ANALISIS COVID\n",
    "- 24/SEPT/2024\n",
    "- MATIAS MOLINA"
   ]
  },
  {
   "cell_type": "code",
   "execution_count": 1,
   "metadata": {},
   "outputs": [],
   "source": [
    "## Test Ferrostaal - Análisis de datos COVID\n",
    "### Nombre Matías Molina\n",
    "## Fecha: 24/Sept/2024\n",
    "\n",
    "\n",
    "\n",
    "# Importación Librerías Básicas\n",
    "import pandas as pd\n",
    "import matplotlib.pyplot as plt\n",
    "import numpy as np\n",
    "import seaborn as sns\n",
    "\n",
    "import plotly as pt\n",
    "import plotly.express as px\n",
    "\n",
    "\n",
    "## Ajustes de Cuadricula y Formato\n",
    "plt.style.use('ggplot')\n",
    "pd.set_option('display.max_colwidth',None)\n",
    "\n",
    "def style_df(df):\n",
    "    return df.style.set_properties(**{'border': '1px solid black'})\n"
   ]
  },
  {
   "cell_type": "markdown",
   "metadata": {},
   "source": [
    "# (I) CARGA DATOS"
   ]
  },
  {
   "cell_type": "code",
   "execution_count": 4,
   "metadata": {},
   "outputs": [],
   "source": [
    "### Carga datos:\n",
    "\n",
    "## Datos de Wikipedia\n",
    "datos_wiki = pd.read_csv(\"https://raw.githubusercontent.com/MEMG2023/Test_Covid/refs/heads/master/Desktop/Varios_/2.-%20Python/06.-%20Test%20Ferostaal/Data_Origen/Tabla_Wiki.csv\", sep=\";\")\n",
    "## Datos de Worlmeters\n",
    "datos_worldmeters = pd.read_csv(\"https://raw.githubusercontent.com/MEMG2023/Test_Covid/refs/heads/master/Desktop/Varios_/2.-%20Python/06.-%20Test%20Ferostaal/Data_Origen/Tabla_Worldmeters.csv\",sep=\";\")\n",
    "\n",
    "\n",
    "## Datos de Contientes // Esta es la matriz de referencia para anexar los datos.\n",
    "datos_continentes = pd.read_csv(\"https://raw.githubusercontent.com/MEMG2023/Test_Covid/refs/heads/master/Desktop/Varios_/2.-%20Python/06.-%20Test%20Ferostaal/Data_Origen/Continentes_x_Paises.csv\",sep=\";\")"
   ]
  },
  {
   "cell_type": "markdown",
   "metadata": {},
   "source": [
    "# (II) HOMOLOGACIÓN DE NOMBRES DE PAISES"
   ]
  },
  {
   "cell_type": "code",
   "execution_count": 5,
   "metadata": {},
   "outputs": [],
   "source": [
    "# Se verficación las nombres de los paises entre la data de Wikipedia v/s Worldmeters\n",
    "# Vale decir, si existen todos los paises de Wikipedia en Worldmeters y viceversa.\n",
    "# Se crean 2 dataframe cada uno para corroborar si tiene el nombre del pais del otro:\n",
    "\n",
    "#Dataframe para Data Wikipedia\n",
    "Nombres_Verifi_Wiki = pd.DataFrame()\n",
    "Nombres_Verifi_Wiki['Nombre_pais']= datos_wiki['Location']   ### Acá le agrega al dataset de comparación todos los nombres de los paises de WIKIPEDIA\n",
    "Nombres_Verifi_Wiki['Verificacion']= 'Sin Verificacion'      ### Crea una columna llamada \"Verificación\" con todos llenado como \"Sin verificar\"\n",
    "\n",
    "\n",
    "#Dataframe para Data Worldmeters\n",
    "Nombres_Verifi_Worldmeters = pd.DataFrame()\n",
    "Nombres_Verifi_Worldmeters['Nombre_pais']= datos_worldmeters['Country (or dependency)'] ### Acá le agrega al dataset de comparación todos los nombres de los paises de WORLDMETERS\n",
    "Nombres_Verifi_Worldmeters['Verificacion']= 'Sin Verificacion'\n"
   ]
  },
  {
   "cell_type": "code",
   "execution_count": 6,
   "metadata": {},
   "outputs": [],
   "source": [
    "### Creación Función de Comparación \n",
    "\n",
    "## La función tiene unos contadores \"a\" y \"b\", y compara el dataset df1 como el df2, según sea necesidad. Registrando los nombres de paises que no encuentra\n",
    "\n",
    "def chequeo(a,b,df1,df2):\n",
    "    df1.loc[m,'Verificacion'] = 'Chequeado'                      #Campo \"Verificacion\" del df para Corroborar\n",
    "    df1.loc[m,'Nombre_pais'] = df2.loc[x,'Nombre_pais']            #Col Pais"
   ]
  },
  {
   "cell_type": "code",
   "execution_count": 7,
   "metadata": {},
   "outputs": [],
   "source": [
    "# Inicio de contadores\n",
    "m=0\n",
    "x = 0\n",
    "\n",
    "# Fin de las listas\n",
    "largo_wm = len(Nombres_Verifi_Worldmeters)\n",
    "largo_wiki = len(Nombres_Verifi_Wiki)\n",
    "\n",
    "## Comparación de Wikipedia vs Worldmeters\n",
    "while m < largo_wiki:\n",
    "    x = 0  \n",
    "    while x < largo_wm:\n",
    "        if Nombres_Verifi_Wiki.loc[m, 'Nombre_pais'] == Nombres_Verifi_Worldmeters.loc[x, 'Nombre_pais']:\n",
    "            chequeo(m, x,Nombres_Verifi_Wiki,Nombres_Verifi_Worldmeters)  \n",
    "            break  \n",
    "        x += 1 \n",
    "    m += 1 \n",
    "\n",
    "\n",
    "## Comparación de Worldmetes vs Wikipedia\n",
    "\n",
    "m=0\n",
    "x = 0\n",
    "\n",
    "\n",
    "\n",
    "while x < largo_wiki:\n",
    "    m = 0  \n",
    "    while m < largo_wm:\n",
    "        if Nombres_Verifi_Wiki.loc[x, 'Nombre_pais'] == Nombres_Verifi_Worldmeters.loc[m, 'Nombre_pais']:\n",
    "            chequeo(x, m,Nombres_Verifi_Worldmeters,Nombres_Verifi_Wiki)  \n",
    "            break  \n",
    "        m += 1 \n",
    "    x += 1 "
   ]
  },
  {
   "cell_type": "markdown",
   "metadata": {},
   "source": [
    "SALIDA DE DATA SIN CONGRUENCIA EN EL OTRO DATASET"
   ]
  },
  {
   "cell_type": "code",
   "execution_count": 8,
   "metadata": {},
   "outputs": [
    {
     "data": {
      "text/html": [
       "<div>\n",
       "<style scoped>\n",
       "    .dataframe tbody tr th:only-of-type {\n",
       "        vertical-align: middle;\n",
       "    }\n",
       "\n",
       "    .dataframe tbody tr th {\n",
       "        vertical-align: top;\n",
       "    }\n",
       "\n",
       "    .dataframe thead th {\n",
       "        text-align: right;\n",
       "    }\n",
       "</style>\n",
       "<table border=\"1\" class=\"dataframe\">\n",
       "  <thead>\n",
       "    <tr style=\"text-align: right;\">\n",
       "      <th></th>\n",
       "      <th>Nombre_pais</th>\n",
       "      <th>Verificacion</th>\n",
       "    </tr>\n",
       "  </thead>\n",
       "  <tbody>\n",
       "    <tr>\n",
       "      <th>0</th>\n",
       "      <td>World[a]</td>\n",
       "      <td>Sin Verificacion</td>\n",
       "    </tr>\n",
       "    <tr>\n",
       "      <th>1</th>\n",
       "      <td>European Union[b]</td>\n",
       "      <td>Sin Verificacion</td>\n",
       "    </tr>\n",
       "    <tr>\n",
       "      <th>3</th>\n",
       "      <td>China[c]</td>\n",
       "      <td>Sin Verificacion</td>\n",
       "    </tr>\n",
       "    <tr>\n",
       "      <th>35</th>\n",
       "      <td>Czech Republic</td>\n",
       "      <td>Sin Verificacion</td>\n",
       "    </tr>\n",
       "    <tr>\n",
       "      <th>53</th>\n",
       "      <td>Republic of Ireland</td>\n",
       "      <td>Sin Verificacion</td>\n",
       "    </tr>\n",
       "    <tr>\n",
       "      <th>81</th>\n",
       "      <td>Palestine</td>\n",
       "      <td>Sin Verificacion</td>\n",
       "    </tr>\n",
       "    <tr>\n",
       "      <th>108</th>\n",
       "      <td>Kosovo</td>\n",
       "      <td>Sin Verificacion</td>\n",
       "    </tr>\n",
       "    <tr>\n",
       "      <th>133</th>\n",
       "      <td>Democratic Republic of the Congo</td>\n",
       "      <td>Sin Verificacion</td>\n",
       "    </tr>\n",
       "    <tr>\n",
       "      <th>138</th>\n",
       "      <td>Ivory Coast</td>\n",
       "      <td>Sin Verificacion</td>\n",
       "    </tr>\n",
       "    <tr>\n",
       "      <th>147</th>\n",
       "      <td>Jersey</td>\n",
       "      <td>Sin Verificacion</td>\n",
       "    </tr>\n",
       "    <tr>\n",
       "      <th>168</th>\n",
       "      <td>Guernsey</td>\n",
       "      <td>Sin Verificacion</td>\n",
       "    </tr>\n",
       "    <tr>\n",
       "      <th>169</th>\n",
       "      <td>Faroe Islands</td>\n",
       "      <td>Sin Verificacion</td>\n",
       "    </tr>\n",
       "    <tr>\n",
       "      <th>172</th>\n",
       "      <td>Federated States of Micronesia</td>\n",
       "      <td>Sin Verificacion</td>\n",
       "    </tr>\n",
       "    <tr>\n",
       "      <th>178</th>\n",
       "      <td>United States Virgin Islands</td>\n",
       "      <td>Sin Verificacion</td>\n",
       "    </tr>\n",
       "    <tr>\n",
       "      <th>180</th>\n",
       "      <td>Republic of the Congo</td>\n",
       "      <td>Sin Verificacion</td>\n",
       "    </tr>\n",
       "    <tr>\n",
       "      <th>200</th>\n",
       "      <td>Collectivity of Saint Martin</td>\n",
       "      <td>Sin Verificacion</td>\n",
       "    </tr>\n",
       "    <tr>\n",
       "      <th>207</th>\n",
       "      <td>Saint Vincent and the Grenadines</td>\n",
       "      <td>Sin Verificacion</td>\n",
       "    </tr>\n",
       "    <tr>\n",
       "      <th>218</th>\n",
       "      <td>Turks and Caicos Islands</td>\n",
       "      <td>Sin Verificacion</td>\n",
       "    </tr>\n",
       "    <tr>\n",
       "      <th>219</th>\n",
       "      <td>Sao Tome and Principe</td>\n",
       "      <td>Sin Verificacion</td>\n",
       "    </tr>\n",
       "    <tr>\n",
       "      <th>220</th>\n",
       "      <td>Saint Kitts and Nevis</td>\n",
       "      <td>Sin Verificacion</td>\n",
       "    </tr>\n",
       "    <tr>\n",
       "      <th>222</th>\n",
       "      <td>Saint Barthélemy</td>\n",
       "      <td>Sin Verificacion</td>\n",
       "    </tr>\n",
       "    <tr>\n",
       "      <th>226</th>\n",
       "      <td>Wallis and Futuna</td>\n",
       "      <td>Sin Verificacion</td>\n",
       "    </tr>\n",
       "    <tr>\n",
       "      <th>227</th>\n",
       "      <td>Macau</td>\n",
       "      <td>Sin Verificacion</td>\n",
       "    </tr>\n",
       "    <tr>\n",
       "      <th>228</th>\n",
       "      <td>Saint Pierre and Miquelon</td>\n",
       "      <td>Sin Verificacion</td>\n",
       "    </tr>\n",
       "    <tr>\n",
       "      <th>230</th>\n",
       "      <td>Saint Helena, Ascension and Tristan da Cunha</td>\n",
       "      <td>Sin Verificacion</td>\n",
       "    </tr>\n",
       "    <tr>\n",
       "      <th>235</th>\n",
       "      <td>Vatican City</td>\n",
       "      <td>Sin Verificacion</td>\n",
       "    </tr>\n",
       "    <tr>\n",
       "      <th>236</th>\n",
       "      <td>Pitcairn Islands</td>\n",
       "      <td>Sin Verificacion</td>\n",
       "    </tr>\n",
       "  </tbody>\n",
       "</table>\n",
       "</div>"
      ],
      "text/plain": [
       "                                      Nombre_pais      Verificacion\n",
       "0                                        World[a]  Sin Verificacion\n",
       "1                               European Union[b]  Sin Verificacion\n",
       "3                                        China[c]  Sin Verificacion\n",
       "35                                 Czech Republic  Sin Verificacion\n",
       "53                            Republic of Ireland  Sin Verificacion\n",
       "81                                      Palestine  Sin Verificacion\n",
       "108                                        Kosovo  Sin Verificacion\n",
       "133              Democratic Republic of the Congo  Sin Verificacion\n",
       "138                                   Ivory Coast  Sin Verificacion\n",
       "147                                        Jersey  Sin Verificacion\n",
       "168                                      Guernsey  Sin Verificacion\n",
       "169                                 Faroe Islands  Sin Verificacion\n",
       "172                Federated States of Micronesia  Sin Verificacion\n",
       "178                  United States Virgin Islands  Sin Verificacion\n",
       "180                         Republic of the Congo  Sin Verificacion\n",
       "200                  Collectivity of Saint Martin  Sin Verificacion\n",
       "207              Saint Vincent and the Grenadines  Sin Verificacion\n",
       "218                      Turks and Caicos Islands  Sin Verificacion\n",
       "219                         Sao Tome and Principe  Sin Verificacion\n",
       "220                         Saint Kitts and Nevis  Sin Verificacion\n",
       "222                              Saint Barthélemy  Sin Verificacion\n",
       "226                             Wallis and Futuna  Sin Verificacion\n",
       "227                                         Macau  Sin Verificacion\n",
       "228                     Saint Pierre and Miquelon  Sin Verificacion\n",
       "230  Saint Helena, Ascension and Tristan da Cunha  Sin Verificacion\n",
       "235                                  Vatican City  Sin Verificacion\n",
       "236                              Pitcairn Islands  Sin Verificacion"
      ]
     },
     "execution_count": 8,
     "metadata": {},
     "output_type": "execute_result"
    }
   ],
   "source": [
    "\n",
    "### Data Sin congruencia de Wikipedia\n",
    "Nombres_Verifi_Wiki[Nombres_Verifi_Wiki['Verificacion'] == 'Sin Verificacion']"
   ]
  },
  {
   "cell_type": "code",
   "execution_count": 9,
   "metadata": {},
   "outputs": [
    {
     "data": {
      "text/html": [
       "<div>\n",
       "<style scoped>\n",
       "    .dataframe tbody tr th:only-of-type {\n",
       "        vertical-align: middle;\n",
       "    }\n",
       "\n",
       "    .dataframe tbody tr th {\n",
       "        vertical-align: top;\n",
       "    }\n",
       "\n",
       "    .dataframe thead th {\n",
       "        text-align: right;\n",
       "    }\n",
       "</style>\n",
       "<table border=\"1\" class=\"dataframe\">\n",
       "  <thead>\n",
       "    <tr style=\"text-align: right;\">\n",
       "      <th></th>\n",
       "      <th>Nombre_pais</th>\n",
       "      <th>Verificacion</th>\n",
       "    </tr>\n",
       "  </thead>\n",
       "  <tbody>\n",
       "    <tr>\n",
       "      <th>1</th>\n",
       "      <td>China</td>\n",
       "      <td>Sin Verificacion</td>\n",
       "    </tr>\n",
       "    <tr>\n",
       "      <th>14</th>\n",
       "      <td>DR Congo</td>\n",
       "      <td>Sin Verificacion</td>\n",
       "    </tr>\n",
       "    <tr>\n",
       "      <th>49</th>\n",
       "      <td>Côte d'Ivoire</td>\n",
       "      <td>Sin Verificacion</td>\n",
       "    </tr>\n",
       "    <tr>\n",
       "      <th>88</th>\n",
       "      <td>Czech Republic (Czechia)</td>\n",
       "      <td>Sin Verificacion</td>\n",
       "    </tr>\n",
       "    <tr>\n",
       "      <th>112</th>\n",
       "      <td>Congo</td>\n",
       "      <td>Sin Verificacion</td>\n",
       "    </tr>\n",
       "    <tr>\n",
       "      <th>120</th>\n",
       "      <td>State of Palestine</td>\n",
       "      <td>Sin Verificacion</td>\n",
       "    </tr>\n",
       "    <tr>\n",
       "      <th>123</th>\n",
       "      <td>Ireland</td>\n",
       "      <td>Sin Verificacion</td>\n",
       "    </tr>\n",
       "    <tr>\n",
       "      <th>166</th>\n",
       "      <td>Macao</td>\n",
       "      <td>Sin Verificacion</td>\n",
       "    </tr>\n",
       "    <tr>\n",
       "      <th>170</th>\n",
       "      <td>Western Sahara</td>\n",
       "      <td>Sin Verificacion</td>\n",
       "    </tr>\n",
       "    <tr>\n",
       "      <th>173</th>\n",
       "      <td>Micronesia</td>\n",
       "      <td>Sin Verificacion</td>\n",
       "    </tr>\n",
       "    <tr>\n",
       "      <th>187</th>\n",
       "      <td>Sao Tome &amp; Principe</td>\n",
       "      <td>Sin Verificacion</td>\n",
       "    </tr>\n",
       "    <tr>\n",
       "      <th>197</th>\n",
       "      <td>St. Vincent &amp; Grenadines</td>\n",
       "      <td>Sin Verificacion</td>\n",
       "    </tr>\n",
       "    <tr>\n",
       "      <th>199</th>\n",
       "      <td>U.S. Virgin Islands</td>\n",
       "      <td>Sin Verificacion</td>\n",
       "    </tr>\n",
       "    <tr>\n",
       "      <th>206</th>\n",
       "      <td>Faeroe Islands</td>\n",
       "      <td>Sin Verificacion</td>\n",
       "    </tr>\n",
       "    <tr>\n",
       "      <th>207</th>\n",
       "      <td>Saint Kitts &amp; Nevis</td>\n",
       "      <td>Sin Verificacion</td>\n",
       "    </tr>\n",
       "    <tr>\n",
       "      <th>209</th>\n",
       "      <td>Turks and Caicos</td>\n",
       "      <td>Sin Verificacion</td>\n",
       "    </tr>\n",
       "    <tr>\n",
       "      <th>219</th>\n",
       "      <td>Saint Martin</td>\n",
       "      <td>Sin Verificacion</td>\n",
       "    </tr>\n",
       "    <tr>\n",
       "      <th>224</th>\n",
       "      <td>Wallis &amp; Futuna</td>\n",
       "      <td>Sin Verificacion</td>\n",
       "    </tr>\n",
       "    <tr>\n",
       "      <th>225</th>\n",
       "      <td>Saint Barthelemy</td>\n",
       "      <td>Sin Verificacion</td>\n",
       "    </tr>\n",
       "    <tr>\n",
       "      <th>227</th>\n",
       "      <td>Saint Pierre &amp; Miquelon</td>\n",
       "      <td>Sin Verificacion</td>\n",
       "    </tr>\n",
       "    <tr>\n",
       "      <th>228</th>\n",
       "      <td>Saint Helena</td>\n",
       "      <td>Sin Verificacion</td>\n",
       "    </tr>\n",
       "    <tr>\n",
       "      <th>233</th>\n",
       "      <td>Holy See</td>\n",
       "      <td>Sin Verificacion</td>\n",
       "    </tr>\n",
       "  </tbody>\n",
       "</table>\n",
       "</div>"
      ],
      "text/plain": [
       "                  Nombre_pais      Verificacion\n",
       "1                       China  Sin Verificacion\n",
       "14                   DR Congo  Sin Verificacion\n",
       "49              Côte d'Ivoire  Sin Verificacion\n",
       "88   Czech Republic (Czechia)  Sin Verificacion\n",
       "112                     Congo  Sin Verificacion\n",
       "120        State of Palestine  Sin Verificacion\n",
       "123                   Ireland  Sin Verificacion\n",
       "166                     Macao  Sin Verificacion\n",
       "170            Western Sahara  Sin Verificacion\n",
       "173                Micronesia  Sin Verificacion\n",
       "187       Sao Tome & Principe  Sin Verificacion\n",
       "197  St. Vincent & Grenadines  Sin Verificacion\n",
       "199       U.S. Virgin Islands  Sin Verificacion\n",
       "206            Faeroe Islands  Sin Verificacion\n",
       "207       Saint Kitts & Nevis  Sin Verificacion\n",
       "209          Turks and Caicos  Sin Verificacion\n",
       "219              Saint Martin  Sin Verificacion\n",
       "224           Wallis & Futuna  Sin Verificacion\n",
       "225          Saint Barthelemy  Sin Verificacion\n",
       "227   Saint Pierre & Miquelon  Sin Verificacion\n",
       "228              Saint Helena  Sin Verificacion\n",
       "233                  Holy See  Sin Verificacion"
      ]
     },
     "execution_count": 9,
     "metadata": {},
     "output_type": "execute_result"
    }
   ],
   "source": [
    "#### Data Sin congruencia de Worldmeters\n",
    "Nombres_Verifi_Worldmeters[Nombres_Verifi_Worldmeters['Verificacion'] == 'Sin Verificacion']"
   ]
  },
  {
   "cell_type": "markdown",
   "metadata": {},
   "source": [
    "- Relevante para el ejercicio por magnitudes\n",
    "- (A) Se homologaran los paises del China, Irlanda , Palestina, Republica Checa\n",
    "- (B) Se eliminan del Dataframe de WIKIPEDIA \"European Union[b]\"y \"World[a]\", ya que no se consideran paises\n",
    "- (C) El resto de los paises no tienen valore relevante en magnitud en este primer analisis"
   ]
  },
  {
   "cell_type": "code",
   "execution_count": 10,
   "metadata": {},
   "outputs": [],
   "source": [
    "## Homologación Nombres de Paises\n",
    "\n",
    "### Se reemplaza y busca por los indices, ver más arriba el número del indice\n",
    "\n",
    "## CHINA\n",
    "datos_wiki.loc[3,'Location'] = 'China'\n",
    "\n",
    "#Irlanda\n",
    "datos_wiki.loc[53,'Location'] = 'Ireland'\n",
    "\n",
    "#Palestina\n",
    "datos_worldmeters.loc[120,'Country (or dependency)'] = 'Palestine'\n",
    "\n",
    "# Republica Checa\n",
    "datos_worldmeters.loc[88,'Country (or dependency)'] = 'Czech Republic'\n"
   ]
  },
  {
   "cell_type": "code",
   "execution_count": 11,
   "metadata": {},
   "outputs": [],
   "source": [
    "## Eliminación de WIKIPEDIA de \"European Union[b]\"y \"World[a]\"\n",
    "datos_wiki=datos_wiki.drop(index=0) ## Indice donde está la Unión Europea // Se puede revisar arriba en Wikipedia en indice\n",
    "datos_wiki=datos_wiki.drop(index=1) ## Indice donde está la World"
   ]
  },
  {
   "cell_type": "markdown",
   "metadata": {},
   "source": [
    "# (III) CONCATENACION DE DATAFRAMES EN UNO SÓLO PARA LA CONSOLIDACIÓN DE TODA LA INFO\n"
   ]
  },
  {
   "cell_type": "code",
   "execution_count": 12,
   "metadata": {},
   "outputs": [],
   "source": [
    "## Creación de archivo único llamado data\n",
    "## Concatenacion del resto de Dataframes a \"Data\"\n",
    "\n",
    "data = pd.merge(datos_continentes, datos_wiki, left_on='Pais', right_on='Location', how='inner')\n",
    "data = pd.merge(data, datos_worldmeters, left_on='Pais', right_on='Country (or dependency)', how='inner')\n",
    "\n"
   ]
  },
  {
   "cell_type": "code",
   "execution_count": 13,
   "metadata": {},
   "outputs": [
    {
     "data": {
      "text/html": [
       "<div>\n",
       "<style scoped>\n",
       "    .dataframe tbody tr th:only-of-type {\n",
       "        vertical-align: middle;\n",
       "    }\n",
       "\n",
       "    .dataframe tbody tr th {\n",
       "        vertical-align: top;\n",
       "    }\n",
       "\n",
       "    .dataframe thead th {\n",
       "        text-align: right;\n",
       "    }\n",
       "</style>\n",
       "<table border=\"1\" class=\"dataframe\">\n",
       "  <thead>\n",
       "    <tr style=\"text-align: right;\">\n",
       "      <th></th>\n",
       "      <th>Continente</th>\n",
       "      <th>Pais</th>\n",
       "      <th>Location</th>\n",
       "      <th>Cases</th>\n",
       "      <th>Deaths</th>\n",
       "      <th>#</th>\n",
       "      <th>Country (or dependency)</th>\n",
       "      <th>Population-2024</th>\n",
       "      <th>Yearly_Change</th>\n",
       "      <th>Net Change</th>\n",
       "      <th>Density_(P/Km²)</th>\n",
       "      <th>Land Area_(Km²)</th>\n",
       "      <th>Migrants_(net)</th>\n",
       "      <th>Fert._Rate</th>\n",
       "      <th>Med._Rate_AAge</th>\n",
       "      <th>Urban_Rate_Pop %</th>\n",
       "      <th>World_Share</th>\n",
       "      <th>Unnamed: 12</th>\n",
       "    </tr>\n",
       "  </thead>\n",
       "  <tbody>\n",
       "    <tr>\n",
       "      <th>0</th>\n",
       "      <td>Africa</td>\n",
       "      <td>Algeria</td>\n",
       "      <td>Algeria</td>\n",
       "      <td>272157</td>\n",
       "      <td>6881</td>\n",
       "      <td>33</td>\n",
       "      <td>Algeria</td>\n",
       "      <td>46814308</td>\n",
       "      <td>0,0141</td>\n",
       "      <td>650089</td>\n",
       "      <td>20</td>\n",
       "      <td>2381740</td>\n",
       "      <td>-31,24</td>\n",
       "      <td>2,7</td>\n",
       "      <td>28</td>\n",
       "      <td>0,74</td>\n",
       "      <td>0,0057</td>\n",
       "      <td>NaN</td>\n",
       "    </tr>\n",
       "    <tr>\n",
       "      <th>1</th>\n",
       "      <td>Africa</td>\n",
       "      <td>Angola</td>\n",
       "      <td>Angola</td>\n",
       "      <td>107481</td>\n",
       "      <td>1937</td>\n",
       "      <td>41</td>\n",
       "      <td>Angola</td>\n",
       "      <td>37885849</td>\n",
       "      <td>0,0309</td>\n",
       "      <td>1135943</td>\n",
       "      <td>30</td>\n",
       "      <td>1246700</td>\n",
       "      <td>-2629</td>\n",
       "      <td>5</td>\n",
       "      <td>17</td>\n",
       "      <td>0,68</td>\n",
       "      <td>0,0046</td>\n",
       "      <td>NaN</td>\n",
       "    </tr>\n",
       "    <tr>\n",
       "      <th>2</th>\n",
       "      <td>Africa</td>\n",
       "      <td>Benin</td>\n",
       "      <td>Benin</td>\n",
       "      <td>28036</td>\n",
       "      <td>163</td>\n",
       "      <td>76</td>\n",
       "      <td>Benin</td>\n",
       "      <td>14462724</td>\n",
       "      <td>0,0249</td>\n",
       "      <td>351,69</td>\n",
       "      <td>128</td>\n",
       "      <td>112,76</td>\n",
       "      <td>-7725</td>\n",
       "      <td>4,5</td>\n",
       "      <td>18</td>\n",
       "      <td>0,47</td>\n",
       "      <td>0,0018</td>\n",
       "      <td>NaN</td>\n",
       "    </tr>\n",
       "    <tr>\n",
       "      <th>3</th>\n",
       "      <td>Africa</td>\n",
       "      <td>Botswana</td>\n",
       "      <td>Botswana</td>\n",
       "      <td>330696</td>\n",
       "      <td>2801</td>\n",
       "      <td>146</td>\n",
       "      <td>Botswana</td>\n",
       "      <td>2521139</td>\n",
       "      <td>0,0165</td>\n",
       "      <td>40895</td>\n",
       "      <td>4</td>\n",
       "      <td>566,73</td>\n",
       "      <td>-5778</td>\n",
       "      <td>2,7</td>\n",
       "      <td>23</td>\n",
       "      <td>0,75</td>\n",
       "      <td>0,0003</td>\n",
       "      <td>NaN</td>\n",
       "    </tr>\n",
       "    <tr>\n",
       "      <th>4</th>\n",
       "      <td>Africa</td>\n",
       "      <td>Burkina Faso</td>\n",
       "      <td>Burkina Faso</td>\n",
       "      <td>22139</td>\n",
       "      <td>400</td>\n",
       "      <td>59</td>\n",
       "      <td>Burkina Faso</td>\n",
       "      <td>23548781</td>\n",
       "      <td>0,0227</td>\n",
       "      <td>523005</td>\n",
       "      <td>86</td>\n",
       "      <td>273,6</td>\n",
       "      <td>-25807</td>\n",
       "      <td>4,1</td>\n",
       "      <td>17</td>\n",
       "      <td>0,33</td>\n",
       "      <td>0,0029</td>\n",
       "      <td>NaN</td>\n",
       "    </tr>\n",
       "    <tr>\n",
       "      <th>...</th>\n",
       "      <td>...</td>\n",
       "      <td>...</td>\n",
       "      <td>...</td>\n",
       "      <td>...</td>\n",
       "      <td>...</td>\n",
       "      <td>...</td>\n",
       "      <td>...</td>\n",
       "      <td>...</td>\n",
       "      <td>...</td>\n",
       "      <td>...</td>\n",
       "      <td>...</td>\n",
       "      <td>...</td>\n",
       "      <td>...</td>\n",
       "      <td>...</td>\n",
       "      <td>...</td>\n",
       "      <td>...</td>\n",
       "      <td>...</td>\n",
       "      <td>...</td>\n",
       "    </tr>\n",
       "    <tr>\n",
       "      <th>211</th>\n",
       "      <td>Oceania</td>\n",
       "      <td>Cook Islands</td>\n",
       "      <td>Cook Islands</td>\n",
       "      <td>7375</td>\n",
       "      <td>2</td>\n",
       "      <td>223</td>\n",
       "      <td>Cook Islands</td>\n",
       "      <td>13729</td>\n",
       "      <td>-0,0347</td>\n",
       "      <td>-493</td>\n",
       "      <td>57</td>\n",
       "      <td>240</td>\n",
       "      <td>-505</td>\n",
       "      <td>2</td>\n",
       "      <td>36</td>\n",
       "      <td>0,98</td>\n",
       "      <td>0</td>\n",
       "      <td>NaN</td>\n",
       "    </tr>\n",
       "    <tr>\n",
       "      <th>212</th>\n",
       "      <td>Central America</td>\n",
       "      <td>Montserrat</td>\n",
       "      <td>Montserrat</td>\n",
       "      <td>1403</td>\n",
       "      <td>8</td>\n",
       "      <td>230</td>\n",
       "      <td>Montserrat</td>\n",
       "      <td>4389</td>\n",
       "      <td>-0,007</td>\n",
       "      <td>-31</td>\n",
       "      <td>44</td>\n",
       "      <td>100</td>\n",
       "      <td>-7</td>\n",
       "      <td>1,4</td>\n",
       "      <td>42</td>\n",
       "      <td>0,11</td>\n",
       "      <td>0</td>\n",
       "      <td>NaN</td>\n",
       "    </tr>\n",
       "    <tr>\n",
       "      <th>213</th>\n",
       "      <td>South America</td>\n",
       "      <td>Falkland Islands</td>\n",
       "      <td>Falkland Islands</td>\n",
       "      <td>1923</td>\n",
       "      <td>0</td>\n",
       "      <td>231</td>\n",
       "      <td>Falkland Islands</td>\n",
       "      <td>3,47</td>\n",
       "      <td>-0,002</td>\n",
       "      <td>-7</td>\n",
       "      <td>0</td>\n",
       "      <td>12,17</td>\n",
       "      <td>-13</td>\n",
       "      <td>1,7</td>\n",
       "      <td>42</td>\n",
       "      <td>0,68</td>\n",
       "      <td>0</td>\n",
       "      <td>NaN</td>\n",
       "    </tr>\n",
       "    <tr>\n",
       "      <th>214</th>\n",
       "      <td>Oceania</td>\n",
       "      <td>Tokelau</td>\n",
       "      <td>Tokelau</td>\n",
       "      <td>80</td>\n",
       "      <td>0</td>\n",
       "      <td>232</td>\n",
       "      <td>Tokelau</td>\n",
       "      <td>2506</td>\n",
       "      <td>0,0455</td>\n",
       "      <td>109</td>\n",
       "      <td>251</td>\n",
       "      <td>10</td>\n",
       "      <td>72</td>\n",
       "      <td>2,6</td>\n",
       "      <td>27</td>\n",
       "      <td>0</td>\n",
       "      <td>0</td>\n",
       "      <td>NaN</td>\n",
       "    </tr>\n",
       "    <tr>\n",
       "      <th>215</th>\n",
       "      <td>Oceania</td>\n",
       "      <td>Niue</td>\n",
       "      <td>Niue</td>\n",
       "      <td>1087</td>\n",
       "      <td>0</td>\n",
       "      <td>233</td>\n",
       "      <td>Niue</td>\n",
       "      <td>1819</td>\n",
       "      <td>0,0011</td>\n",
       "      <td>2</td>\n",
       "      <td>7</td>\n",
       "      <td>260</td>\n",
       "      <td>10</td>\n",
       "      <td>2,5</td>\n",
       "      <td>36</td>\n",
       "      <td>0,44</td>\n",
       "      <td>0</td>\n",
       "      <td>NaN</td>\n",
       "    </tr>\n",
       "  </tbody>\n",
       "</table>\n",
       "<p>216 rows × 18 columns</p>\n",
       "</div>"
      ],
      "text/plain": [
       "          Continente              Pais          Location   Cases  Deaths    #  \\\n",
       "0             Africa           Algeria           Algeria  272157    6881   33   \n",
       "1             Africa            Angola            Angola  107481    1937   41   \n",
       "2             Africa             Benin             Benin   28036     163   76   \n",
       "3             Africa          Botswana          Botswana  330696    2801  146   \n",
       "4             Africa      Burkina Faso      Burkina Faso   22139     400   59   \n",
       "..               ...               ...               ...     ...     ...  ...   \n",
       "211          Oceania      Cook Islands      Cook Islands    7375       2  223   \n",
       "212  Central America        Montserrat        Montserrat    1403       8  230   \n",
       "213    South America  Falkland Islands  Falkland Islands    1923       0  231   \n",
       "214          Oceania           Tokelau           Tokelau      80       0  232   \n",
       "215          Oceania              Niue              Niue    1087       0  233   \n",
       "\n",
       "    Country (or dependency) Population-2024 Yearly_Change Net Change  \\\n",
       "0                   Algeria        46814308        0,0141     650089   \n",
       "1                    Angola        37885849        0,0309    1135943   \n",
       "2                     Benin        14462724        0,0249     351,69   \n",
       "3                  Botswana         2521139        0,0165      40895   \n",
       "4              Burkina Faso        23548781        0,0227     523005   \n",
       "..                      ...             ...           ...        ...   \n",
       "211            Cook Islands           13729       -0,0347       -493   \n",
       "212              Montserrat            4389        -0,007        -31   \n",
       "213        Falkland Islands            3,47        -0,002         -7   \n",
       "214                 Tokelau            2506        0,0455        109   \n",
       "215                    Niue            1819        0,0011          2   \n",
       "\n",
       "    Density_(P/Km²) Land Area_(Km²) Migrants_(net) Fert._Rate  Med._Rate_AAge  \\\n",
       "0                20         2381740         -31,24        2,7              28   \n",
       "1                30         1246700          -2629          5              17   \n",
       "2               128          112,76          -7725        4,5              18   \n",
       "3                 4          566,73          -5778        2,7              23   \n",
       "4                86           273,6         -25807        4,1              17   \n",
       "..              ...             ...            ...        ...             ...   \n",
       "211              57             240           -505          2              36   \n",
       "212              44             100             -7        1,4              42   \n",
       "213               0           12,17            -13        1,7              42   \n",
       "214             251              10             72        2,6              27   \n",
       "215               7             260             10        2,5              36   \n",
       "\n",
       "    Urban_Rate_Pop % World_Share  Unnamed: 12  \n",
       "0               0,74      0,0057          NaN  \n",
       "1               0,68      0,0046          NaN  \n",
       "2               0,47      0,0018          NaN  \n",
       "3               0,75      0,0003          NaN  \n",
       "4               0,33      0,0029          NaN  \n",
       "..               ...         ...          ...  \n",
       "211             0,98           0          NaN  \n",
       "212             0,11           0          NaN  \n",
       "213             0,68           0          NaN  \n",
       "214                0           0          NaN  \n",
       "215             0,44           0          NaN  \n",
       "\n",
       "[216 rows x 18 columns]"
      ]
     },
     "execution_count": 13,
     "metadata": {},
     "output_type": "execute_result"
    }
   ],
   "source": [
    "#Data Consolidada\n",
    "data"
   ]
  },
  {
   "cell_type": "markdown",
   "metadata": {},
   "source": [
    "# (IV) Agregar Columnas Calculadas"
   ]
  },
  {
   "cell_type": "code",
   "execution_count": 14,
   "metadata": {},
   "outputs": [],
   "source": [
    "\n",
    "### Convertir la data a Numero\n",
    "data['Land Area_(Km²)'] = data['Land Area_(Km²)'].str.replace(',', '.').astype(float)\n",
    "data['Population-2024'] = data['Population-2024'].str.replace(',', '.').astype(float)\n",
    "data['Migrants_(net)'] = data['Migrants_(net)'].str.replace(',', '.').astype(float)\n",
    "data['Cases'] = pd.to_numeric(data['Cases'], errors='coerce')\n",
    "data['Deaths'] = pd.to_numeric(data['Deaths'], errors='coerce')\n",
    "data['Med._Rate_AAge'] = pd.to_numeric(data['Med._Rate_AAge'], errors='coerce')\n"
   ]
  },
  {
   "cell_type": "code",
   "execution_count": 15,
   "metadata": {},
   "outputs": [],
   "source": [
    "# Confirmados_x_Millon_Hab  \n",
    "data['Confirmados_x_Millon_Hab'] = data['Cases']/(data['Population-2024']/1000000)\n",
    "\n",
    "# Defunciones_x_Millon_Hab  \n",
    "data['Defunciones_x_Millon_Hab'] = data['Deaths']/(data['Population-2024']/1000000)\n",
    "\n",
    "#Sanados\n",
    "data['Sanados'] = data['Cases']-data['Deaths']\n",
    "\n",
    "#Sanados_x_Millon_Hab  \n",
    "data['Sanados_x_Millon_Hab'] = data['Sanados']/(data['Population-2024']/1000000)\n",
    "\n",
    "#Sanados/Confirmados\n",
    "data['Sanados/Confirmados'] = (data['Sanados']/data['Cases'])*100\n",
    "\n",
    "#Defunciones/Confirmados\n",
    "data['Defunciones/Confirmados'] = (data['Deaths']/data['Cases'])*100\n",
    "\n",
    "#Densidad_Km2\n",
    "data['Densidad_Km2'] = data['Population-2024']/data['Land Area_(Km²)']\n",
    "\n",
    "\n"
   ]
  },
  {
   "cell_type": "code",
   "execution_count": 16,
   "metadata": {},
   "outputs": [
    {
     "data": {
      "text/html": [
       "<div>\n",
       "<style scoped>\n",
       "    .dataframe tbody tr th:only-of-type {\n",
       "        vertical-align: middle;\n",
       "    }\n",
       "\n",
       "    .dataframe tbody tr th {\n",
       "        vertical-align: top;\n",
       "    }\n",
       "\n",
       "    .dataframe thead th {\n",
       "        text-align: right;\n",
       "    }\n",
       "</style>\n",
       "<table border=\"1\" class=\"dataframe\">\n",
       "  <thead>\n",
       "    <tr style=\"text-align: right;\">\n",
       "      <th></th>\n",
       "      <th>Continente</th>\n",
       "      <th>Pais</th>\n",
       "      <th>Location</th>\n",
       "      <th>Cases</th>\n",
       "      <th>Deaths</th>\n",
       "      <th>#</th>\n",
       "      <th>Country (or dependency)</th>\n",
       "      <th>Population-2024</th>\n",
       "      <th>Yearly_Change</th>\n",
       "      <th>Net Change</th>\n",
       "      <th>...</th>\n",
       "      <th>Urban_Rate_Pop %</th>\n",
       "      <th>World_Share</th>\n",
       "      <th>Unnamed: 12</th>\n",
       "      <th>Confirmados_x_Millon_Hab</th>\n",
       "      <th>Defunciones_x_Millon_Hab</th>\n",
       "      <th>Sanados</th>\n",
       "      <th>Sanados_x_Millon_Hab</th>\n",
       "      <th>Sanados/Confirmados</th>\n",
       "      <th>Defunciones/Confirmados</th>\n",
       "      <th>Densidad_Km2</th>\n",
       "    </tr>\n",
       "  </thead>\n",
       "  <tbody>\n",
       "    <tr>\n",
       "      <th>0</th>\n",
       "      <td>Africa</td>\n",
       "      <td>Algeria</td>\n",
       "      <td>Algeria</td>\n",
       "      <td>272157</td>\n",
       "      <td>6881</td>\n",
       "      <td>33</td>\n",
       "      <td>Algeria</td>\n",
       "      <td>46814308.00</td>\n",
       "      <td>0,0141</td>\n",
       "      <td>650089</td>\n",
       "      <td>...</td>\n",
       "      <td>0,74</td>\n",
       "      <td>0,0057</td>\n",
       "      <td>NaN</td>\n",
       "      <td>5.813543e+03</td>\n",
       "      <td>146.984977</td>\n",
       "      <td>265276</td>\n",
       "      <td>5.666558e+03</td>\n",
       "      <td>97.471680</td>\n",
       "      <td>2.528320</td>\n",
       "      <td>19.655507</td>\n",
       "    </tr>\n",
       "    <tr>\n",
       "      <th>1</th>\n",
       "      <td>Africa</td>\n",
       "      <td>Angola</td>\n",
       "      <td>Angola</td>\n",
       "      <td>107481</td>\n",
       "      <td>1937</td>\n",
       "      <td>41</td>\n",
       "      <td>Angola</td>\n",
       "      <td>37885849.00</td>\n",
       "      <td>0,0309</td>\n",
       "      <td>1135943</td>\n",
       "      <td>...</td>\n",
       "      <td>0,68</td>\n",
       "      <td>0,0046</td>\n",
       "      <td>NaN</td>\n",
       "      <td>2.836970e+03</td>\n",
       "      <td>51.127269</td>\n",
       "      <td>105544</td>\n",
       "      <td>2.785842e+03</td>\n",
       "      <td>98.197821</td>\n",
       "      <td>1.802179</td>\n",
       "      <td>30.388906</td>\n",
       "    </tr>\n",
       "    <tr>\n",
       "      <th>2</th>\n",
       "      <td>Africa</td>\n",
       "      <td>Benin</td>\n",
       "      <td>Benin</td>\n",
       "      <td>28036</td>\n",
       "      <td>163</td>\n",
       "      <td>76</td>\n",
       "      <td>Benin</td>\n",
       "      <td>14462724.00</td>\n",
       "      <td>0,0249</td>\n",
       "      <td>351,69</td>\n",
       "      <td>...</td>\n",
       "      <td>0,47</td>\n",
       "      <td>0,0018</td>\n",
       "      <td>NaN</td>\n",
       "      <td>1.938501e+03</td>\n",
       "      <td>11.270353</td>\n",
       "      <td>27873</td>\n",
       "      <td>1.927230e+03</td>\n",
       "      <td>99.418605</td>\n",
       "      <td>0.581395</td>\n",
       "      <td>128261.120965</td>\n",
       "    </tr>\n",
       "    <tr>\n",
       "      <th>3</th>\n",
       "      <td>Africa</td>\n",
       "      <td>Botswana</td>\n",
       "      <td>Botswana</td>\n",
       "      <td>330696</td>\n",
       "      <td>2801</td>\n",
       "      <td>146</td>\n",
       "      <td>Botswana</td>\n",
       "      <td>2521139.00</td>\n",
       "      <td>0,0165</td>\n",
       "      <td>40895</td>\n",
       "      <td>...</td>\n",
       "      <td>0,75</td>\n",
       "      <td>0,0003</td>\n",
       "      <td>NaN</td>\n",
       "      <td>1.311693e+05</td>\n",
       "      <td>1111.005780</td>\n",
       "      <td>327895</td>\n",
       "      <td>1.300583e+05</td>\n",
       "      <td>99.152999</td>\n",
       "      <td>0.847001</td>\n",
       "      <td>4448.571630</td>\n",
       "    </tr>\n",
       "    <tr>\n",
       "      <th>4</th>\n",
       "      <td>Africa</td>\n",
       "      <td>Burkina Faso</td>\n",
       "      <td>Burkina Faso</td>\n",
       "      <td>22139</td>\n",
       "      <td>400</td>\n",
       "      <td>59</td>\n",
       "      <td>Burkina Faso</td>\n",
       "      <td>23548781.00</td>\n",
       "      <td>0,0227</td>\n",
       "      <td>523005</td>\n",
       "      <td>...</td>\n",
       "      <td>0,33</td>\n",
       "      <td>0,0029</td>\n",
       "      <td>NaN</td>\n",
       "      <td>9.401336e+02</td>\n",
       "      <td>16.986017</td>\n",
       "      <td>21739</td>\n",
       "      <td>9.231476e+02</td>\n",
       "      <td>98.193234</td>\n",
       "      <td>1.806766</td>\n",
       "      <td>86070.105994</td>\n",
       "    </tr>\n",
       "    <tr>\n",
       "      <th>...</th>\n",
       "      <td>...</td>\n",
       "      <td>...</td>\n",
       "      <td>...</td>\n",
       "      <td>...</td>\n",
       "      <td>...</td>\n",
       "      <td>...</td>\n",
       "      <td>...</td>\n",
       "      <td>...</td>\n",
       "      <td>...</td>\n",
       "      <td>...</td>\n",
       "      <td>...</td>\n",
       "      <td>...</td>\n",
       "      <td>...</td>\n",
       "      <td>...</td>\n",
       "      <td>...</td>\n",
       "      <td>...</td>\n",
       "      <td>...</td>\n",
       "      <td>...</td>\n",
       "      <td>...</td>\n",
       "      <td>...</td>\n",
       "      <td>...</td>\n",
       "    </tr>\n",
       "    <tr>\n",
       "      <th>211</th>\n",
       "      <td>Oceania</td>\n",
       "      <td>Cook Islands</td>\n",
       "      <td>Cook Islands</td>\n",
       "      <td>7375</td>\n",
       "      <td>2</td>\n",
       "      <td>223</td>\n",
       "      <td>Cook Islands</td>\n",
       "      <td>13729.00</td>\n",
       "      <td>-0,0347</td>\n",
       "      <td>-493</td>\n",
       "      <td>...</td>\n",
       "      <td>0,98</td>\n",
       "      <td>0</td>\n",
       "      <td>NaN</td>\n",
       "      <td>5.371841e+05</td>\n",
       "      <td>145.677034</td>\n",
       "      <td>7373</td>\n",
       "      <td>5.370384e+05</td>\n",
       "      <td>99.972881</td>\n",
       "      <td>0.027119</td>\n",
       "      <td>57.204167</td>\n",
       "    </tr>\n",
       "    <tr>\n",
       "      <th>212</th>\n",
       "      <td>Central America</td>\n",
       "      <td>Montserrat</td>\n",
       "      <td>Montserrat</td>\n",
       "      <td>1403</td>\n",
       "      <td>8</td>\n",
       "      <td>230</td>\n",
       "      <td>Montserrat</td>\n",
       "      <td>4389.00</td>\n",
       "      <td>-0,007</td>\n",
       "      <td>-31</td>\n",
       "      <td>...</td>\n",
       "      <td>0,11</td>\n",
       "      <td>0</td>\n",
       "      <td>NaN</td>\n",
       "      <td>3.196628e+05</td>\n",
       "      <td>1822.738665</td>\n",
       "      <td>1395</td>\n",
       "      <td>3.178401e+05</td>\n",
       "      <td>99.429793</td>\n",
       "      <td>0.570207</td>\n",
       "      <td>43.890000</td>\n",
       "    </tr>\n",
       "    <tr>\n",
       "      <th>213</th>\n",
       "      <td>South America</td>\n",
       "      <td>Falkland Islands</td>\n",
       "      <td>Falkland Islands</td>\n",
       "      <td>1923</td>\n",
       "      <td>0</td>\n",
       "      <td>231</td>\n",
       "      <td>Falkland Islands</td>\n",
       "      <td>3.47</td>\n",
       "      <td>-0,002</td>\n",
       "      <td>-7</td>\n",
       "      <td>...</td>\n",
       "      <td>0,68</td>\n",
       "      <td>0</td>\n",
       "      <td>NaN</td>\n",
       "      <td>5.541787e+08</td>\n",
       "      <td>0.000000</td>\n",
       "      <td>1923</td>\n",
       "      <td>5.541787e+08</td>\n",
       "      <td>100.000000</td>\n",
       "      <td>0.000000</td>\n",
       "      <td>0.285127</td>\n",
       "    </tr>\n",
       "    <tr>\n",
       "      <th>214</th>\n",
       "      <td>Oceania</td>\n",
       "      <td>Tokelau</td>\n",
       "      <td>Tokelau</td>\n",
       "      <td>80</td>\n",
       "      <td>0</td>\n",
       "      <td>232</td>\n",
       "      <td>Tokelau</td>\n",
       "      <td>2506.00</td>\n",
       "      <td>0,0455</td>\n",
       "      <td>109</td>\n",
       "      <td>...</td>\n",
       "      <td>0</td>\n",
       "      <td>0</td>\n",
       "      <td>NaN</td>\n",
       "      <td>3.192338e+04</td>\n",
       "      <td>0.000000</td>\n",
       "      <td>80</td>\n",
       "      <td>3.192338e+04</td>\n",
       "      <td>100.000000</td>\n",
       "      <td>0.000000</td>\n",
       "      <td>250.600000</td>\n",
       "    </tr>\n",
       "    <tr>\n",
       "      <th>215</th>\n",
       "      <td>Oceania</td>\n",
       "      <td>Niue</td>\n",
       "      <td>Niue</td>\n",
       "      <td>1087</td>\n",
       "      <td>0</td>\n",
       "      <td>233</td>\n",
       "      <td>Niue</td>\n",
       "      <td>1819.00</td>\n",
       "      <td>0,0011</td>\n",
       "      <td>2</td>\n",
       "      <td>...</td>\n",
       "      <td>0,44</td>\n",
       "      <td>0</td>\n",
       "      <td>NaN</td>\n",
       "      <td>5.975811e+05</td>\n",
       "      <td>0.000000</td>\n",
       "      <td>1087</td>\n",
       "      <td>5.975811e+05</td>\n",
       "      <td>100.000000</td>\n",
       "      <td>0.000000</td>\n",
       "      <td>6.996154</td>\n",
       "    </tr>\n",
       "  </tbody>\n",
       "</table>\n",
       "<p>216 rows × 25 columns</p>\n",
       "</div>"
      ],
      "text/plain": [
       "          Continente              Pais          Location   Cases  Deaths    #  \\\n",
       "0             Africa           Algeria           Algeria  272157    6881   33   \n",
       "1             Africa            Angola            Angola  107481    1937   41   \n",
       "2             Africa             Benin             Benin   28036     163   76   \n",
       "3             Africa          Botswana          Botswana  330696    2801  146   \n",
       "4             Africa      Burkina Faso      Burkina Faso   22139     400   59   \n",
       "..               ...               ...               ...     ...     ...  ...   \n",
       "211          Oceania      Cook Islands      Cook Islands    7375       2  223   \n",
       "212  Central America        Montserrat        Montserrat    1403       8  230   \n",
       "213    South America  Falkland Islands  Falkland Islands    1923       0  231   \n",
       "214          Oceania           Tokelau           Tokelau      80       0  232   \n",
       "215          Oceania              Niue              Niue    1087       0  233   \n",
       "\n",
       "    Country (or dependency)  Population-2024 Yearly_Change Net Change  ...  \\\n",
       "0                   Algeria      46814308.00        0,0141     650089  ...   \n",
       "1                    Angola      37885849.00        0,0309    1135943  ...   \n",
       "2                     Benin      14462724.00        0,0249     351,69  ...   \n",
       "3                  Botswana       2521139.00        0,0165      40895  ...   \n",
       "4              Burkina Faso      23548781.00        0,0227     523005  ...   \n",
       "..                      ...              ...           ...        ...  ...   \n",
       "211            Cook Islands         13729.00       -0,0347       -493  ...   \n",
       "212              Montserrat          4389.00        -0,007        -31  ...   \n",
       "213        Falkland Islands             3.47        -0,002         -7  ...   \n",
       "214                 Tokelau          2506.00        0,0455        109  ...   \n",
       "215                    Niue          1819.00        0,0011          2  ...   \n",
       "\n",
       "    Urban_Rate_Pop %  World_Share  Unnamed: 12 Confirmados_x_Millon_Hab  \\\n",
       "0               0,74       0,0057          NaN             5.813543e+03   \n",
       "1               0,68       0,0046          NaN             2.836970e+03   \n",
       "2               0,47       0,0018          NaN             1.938501e+03   \n",
       "3               0,75       0,0003          NaN             1.311693e+05   \n",
       "4               0,33       0,0029          NaN             9.401336e+02   \n",
       "..               ...          ...          ...                      ...   \n",
       "211             0,98            0          NaN             5.371841e+05   \n",
       "212             0,11            0          NaN             3.196628e+05   \n",
       "213             0,68            0          NaN             5.541787e+08   \n",
       "214                0            0          NaN             3.192338e+04   \n",
       "215             0,44            0          NaN             5.975811e+05   \n",
       "\n",
       "     Defunciones_x_Millon_Hab Sanados Sanados_x_Millon_Hab  \\\n",
       "0                  146.984977  265276         5.666558e+03   \n",
       "1                   51.127269  105544         2.785842e+03   \n",
       "2                   11.270353   27873         1.927230e+03   \n",
       "3                 1111.005780  327895         1.300583e+05   \n",
       "4                   16.986017   21739         9.231476e+02   \n",
       "..                        ...     ...                  ...   \n",
       "211                145.677034    7373         5.370384e+05   \n",
       "212               1822.738665    1395         3.178401e+05   \n",
       "213                  0.000000    1923         5.541787e+08   \n",
       "214                  0.000000      80         3.192338e+04   \n",
       "215                  0.000000    1087         5.975811e+05   \n",
       "\n",
       "     Sanados/Confirmados  Defunciones/Confirmados   Densidad_Km2  \n",
       "0              97.471680                 2.528320      19.655507  \n",
       "1              98.197821                 1.802179      30.388906  \n",
       "2              99.418605                 0.581395  128261.120965  \n",
       "3              99.152999                 0.847001    4448.571630  \n",
       "4              98.193234                 1.806766   86070.105994  \n",
       "..                   ...                      ...            ...  \n",
       "211            99.972881                 0.027119      57.204167  \n",
       "212            99.429793                 0.570207      43.890000  \n",
       "213           100.000000                 0.000000       0.285127  \n",
       "214           100.000000                 0.000000     250.600000  \n",
       "215           100.000000                 0.000000       6.996154  \n",
       "\n",
       "[216 rows x 25 columns]"
      ]
     },
     "execution_count": 16,
     "metadata": {},
     "output_type": "execute_result"
    }
   ],
   "source": [
    "#Resultado\n",
    "data"
   ]
  },
  {
   "cell_type": "markdown",
   "metadata": {},
   "source": [
    "# (V) Reportes\n",
    "# (V.i) Reporte x Continente"
   ]
  },
  {
   "cell_type": "code",
   "execution_count": 17,
   "metadata": {},
   "outputs": [
    {
     "data": {
      "text/html": [
       "<style type=\"text/css\">\n",
       "#T_e10d5_row0_col0, #T_e10d5_row0_col1, #T_e10d5_row0_col2, #T_e10d5_row0_col3, #T_e10d5_row0_col4, #T_e10d5_row0_col5, #T_e10d5_row0_col6, #T_e10d5_row0_col7, #T_e10d5_row1_col0, #T_e10d5_row1_col1, #T_e10d5_row1_col2, #T_e10d5_row1_col3, #T_e10d5_row1_col4, #T_e10d5_row1_col5, #T_e10d5_row1_col6, #T_e10d5_row1_col7, #T_e10d5_row2_col0, #T_e10d5_row2_col1, #T_e10d5_row2_col2, #T_e10d5_row2_col3, #T_e10d5_row2_col4, #T_e10d5_row2_col5, #T_e10d5_row2_col6, #T_e10d5_row2_col7, #T_e10d5_row3_col0, #T_e10d5_row3_col1, #T_e10d5_row3_col2, #T_e10d5_row3_col3, #T_e10d5_row3_col4, #T_e10d5_row3_col5, #T_e10d5_row3_col6, #T_e10d5_row3_col7, #T_e10d5_row4_col0, #T_e10d5_row4_col1, #T_e10d5_row4_col2, #T_e10d5_row4_col3, #T_e10d5_row4_col4, #T_e10d5_row4_col5, #T_e10d5_row4_col6, #T_e10d5_row4_col7, #T_e10d5_row5_col0, #T_e10d5_row5_col1, #T_e10d5_row5_col2, #T_e10d5_row5_col3, #T_e10d5_row5_col4, #T_e10d5_row5_col5, #T_e10d5_row5_col6, #T_e10d5_row5_col7, #T_e10d5_row6_col0, #T_e10d5_row6_col1, #T_e10d5_row6_col2, #T_e10d5_row6_col3, #T_e10d5_row6_col4, #T_e10d5_row6_col5, #T_e10d5_row6_col6, #T_e10d5_row6_col7, #T_e10d5_row7_col0, #T_e10d5_row7_col1, #T_e10d5_row7_col2, #T_e10d5_row7_col3, #T_e10d5_row7_col4, #T_e10d5_row7_col5, #T_e10d5_row7_col6, #T_e10d5_row7_col7, #T_e10d5_row8_col0, #T_e10d5_row8_col1, #T_e10d5_row8_col2, #T_e10d5_row8_col3, #T_e10d5_row8_col4, #T_e10d5_row8_col5, #T_e10d5_row8_col6, #T_e10d5_row8_col7 {\n",
       "  border: 1px solid black;\n",
       "}\n",
       "</style>\n",
       "<table id=\"T_e10d5\">\n",
       "  <thead>\n",
       "    <tr>\n",
       "      <th class=\"blank level0\" >&nbsp;</th>\n",
       "      <th id=\"T_e10d5_level0_col0\" class=\"col_heading level0 col0\" >Positivos_COVID</th>\n",
       "      <th id=\"T_e10d5_level0_col1\" class=\"col_heading level0 col1\" >Defunciones</th>\n",
       "      <th id=\"T_e10d5_level0_col2\" class=\"col_heading level0 col2\" >Sanados</th>\n",
       "      <th id=\"T_e10d5_level0_col3\" class=\"col_heading level0 col3\" >Edad Promedio</th>\n",
       "      <th id=\"T_e10d5_level0_col4\" class=\"col_heading level0 col4\" >Sanados/Confirmados %</th>\n",
       "      <th id=\"T_e10d5_level0_col5\" class=\"col_heading level0 col5\" >Defunciones/Confirmados %</th>\n",
       "      <th id=\"T_e10d5_level0_col6\" class=\"col_heading level0 col6\" >Population-2024</th>\n",
       "      <th id=\"T_e10d5_level0_col7\" class=\"col_heading level0 col7\" >Continente</th>\n",
       "    </tr>\n",
       "    <tr>\n",
       "      <th class=\"index_name level0\" >Continente</th>\n",
       "      <th class=\"blank col0\" >&nbsp;</th>\n",
       "      <th class=\"blank col1\" >&nbsp;</th>\n",
       "      <th class=\"blank col2\" >&nbsp;</th>\n",
       "      <th class=\"blank col3\" >&nbsp;</th>\n",
       "      <th class=\"blank col4\" >&nbsp;</th>\n",
       "      <th class=\"blank col5\" >&nbsp;</th>\n",
       "      <th class=\"blank col6\" >&nbsp;</th>\n",
       "      <th class=\"blank col7\" >&nbsp;</th>\n",
       "    </tr>\n",
       "  </thead>\n",
       "  <tbody>\n",
       "    <tr>\n",
       "      <th id=\"T_e10d5_level0_row0\" class=\"row_heading level0 row0\" >Africa</th>\n",
       "      <td id=\"T_e10d5_row0_col0\" class=\"data row0 col0\" >12406095</td>\n",
       "      <td id=\"T_e10d5_row0_col1\" class=\"data row0 col1\" >231515</td>\n",
       "      <td id=\"T_e10d5_row0_col2\" class=\"data row0 col2\" >12174580</td>\n",
       "      <td id=\"T_e10d5_row0_col3\" class=\"data row0 col3\" >20.862745</td>\n",
       "      <td id=\"T_e10d5_row0_col4\" class=\"data row0 col4\" >98.133861</td>\n",
       "      <td id=\"T_e10d5_row0_col5\" class=\"data row0 col5\" >1.866139</td>\n",
       "      <td id=\"T_e10d5_row0_col6\" class=\"data row0 col6\" >1250227857.000000</td>\n",
       "      <td id=\"T_e10d5_row0_col7\" class=\"data row0 col7\" >Africa</td>\n",
       "    </tr>\n",
       "    <tr>\n",
       "      <th id=\"T_e10d5_level0_row1\" class=\"row_heading level0 row1\" >Asia</th>\n",
       "      <td id=\"T_e10d5_row1_col0\" class=\"data row1 col0\" >274508441</td>\n",
       "      <td id=\"T_e10d5_row1_col1\" class=\"data row1 col1\" >1324600</td>\n",
       "      <td id=\"T_e10d5_row1_col2\" class=\"data row1 col2\" >273183841</td>\n",
       "      <td id=\"T_e10d5_row1_col3\" class=\"data row1 col3\" >31.352941</td>\n",
       "      <td id=\"T_e10d5_row1_col4\" class=\"data row1 col4\" >99.517465</td>\n",
       "      <td id=\"T_e10d5_row1_col5\" class=\"data row1 col5\" >0.482535</td>\n",
       "      <td id=\"T_e10d5_row1_col6\" class=\"data row1 col6\" >4422377275.000000</td>\n",
       "      <td id=\"T_e10d5_row1_col7\" class=\"data row1 col7\" >Asia</td>\n",
       "    </tr>\n",
       "    <tr>\n",
       "      <th id=\"T_e10d5_level0_row2\" class=\"row_heading level0 row2\" >Central America</th>\n",
       "      <td id=\"T_e10d5_row2_col0\" class=\"data row2 col0\" >8518075</td>\n",
       "      <td id=\"T_e10d5_row2_col1\" class=\"data row2 col1\" >87611</td>\n",
       "      <td id=\"T_e10d5_row2_col2\" class=\"data row2 col2\" >8430464</td>\n",
       "      <td id=\"T_e10d5_row2_col3\" class=\"data row2 col3\" >35.379310</td>\n",
       "      <td id=\"T_e10d5_row2_col4\" class=\"data row2 col4\" >98.971469</td>\n",
       "      <td id=\"T_e10d5_row2_col5\" class=\"data row2 col5\" >1.028531</td>\n",
       "      <td id=\"T_e10d5_row2_col6\" class=\"data row2 col6\" >96634172.350000</td>\n",
       "      <td id=\"T_e10d5_row2_col7\" class=\"data row2 col7\" >Central America</td>\n",
       "    </tr>\n",
       "    <tr>\n",
       "      <th id=\"T_e10d5_level0_row3\" class=\"row_heading level0 row3\" >Eastern Europe</th>\n",
       "      <td id=\"T_e10d5_row3_col0\" class=\"data row3 col0\" >61596587</td>\n",
       "      <td id=\"T_e10d5_row3_col1\" class=\"data row3 col1\" >974273</td>\n",
       "      <td id=\"T_e10d5_row3_col2\" class=\"data row3 col2\" >60622314</td>\n",
       "      <td id=\"T_e10d5_row3_col3\" class=\"data row3 col3\" >42.150000</td>\n",
       "      <td id=\"T_e10d5_row3_col4\" class=\"data row3 col4\" >98.418300</td>\n",
       "      <td id=\"T_e10d5_row3_col5\" class=\"data row3 col5\" >1.581700</td>\n",
       "      <td id=\"T_e10d5_row3_col6\" class=\"data row3 col6\" >312242304.000000</td>\n",
       "      <td id=\"T_e10d5_row3_col7\" class=\"data row3 col7\" >Eastern Europe</td>\n",
       "    </tr>\n",
       "    <tr>\n",
       "      <th id=\"T_e10d5_level0_row4\" class=\"row_heading level0 row4\" >Middle East</th>\n",
       "      <td id=\"T_e10d5_row4_col0\" class=\"data row4 col0\" >41100433</td>\n",
       "      <td id=\"T_e10d5_row4_col1\" class=\"data row4 col1\" >370168</td>\n",
       "      <td id=\"T_e10d5_row4_col2\" class=\"data row4 col2\" >40730265</td>\n",
       "      <td id=\"T_e10d5_row4_col3\" class=\"data row4 col3\" >28.588235</td>\n",
       "      <td id=\"T_e10d5_row4_col4\" class=\"data row4 col4\" >99.099357</td>\n",
       "      <td id=\"T_e10d5_row4_col5\" class=\"data row4 col5\" >0.900643</td>\n",
       "      <td id=\"T_e10d5_row4_col6\" class=\"data row4 col6\" >500338727.000000</td>\n",
       "      <td id=\"T_e10d5_row4_col7\" class=\"data row4 col7\" >Middle East</td>\n",
       "    </tr>\n",
       "    <tr>\n",
       "      <th id=\"T_e10d5_level0_row5\" class=\"row_heading level0 row5\" >North America</th>\n",
       "      <td id=\"T_e10d5_row5_col0\" class=\"data row5 col0\" >115908575</td>\n",
       "      <td id=\"T_e10d5_row5_col1\" class=\"data row5 col1\" >1589246</td>\n",
       "      <td id=\"T_e10d5_row5_col2\" class=\"data row5 col2\" >114319329</td>\n",
       "      <td id=\"T_e10d5_row5_col3\" class=\"data row5 col3\" >37.600000</td>\n",
       "      <td id=\"T_e10d5_row5_col4\" class=\"data row5 col4\" >98.628880</td>\n",
       "      <td id=\"T_e10d5_row5_col5\" class=\"data row5 col5\" >1.371120</td>\n",
       "      <td id=\"T_e10d5_row5_col6\" class=\"data row5 col6\" >516094699.840000</td>\n",
       "      <td id=\"T_e10d5_row5_col7\" class=\"data row5 col7\" >North America</td>\n",
       "    </tr>\n",
       "    <tr>\n",
       "      <th id=\"T_e10d5_level0_row6\" class=\"row_heading level0 row6\" >Oceania</th>\n",
       "      <td id=\"T_e10d5_row6_col0\" class=\"data row6 col0\" >14975118</td>\n",
       "      <td id=\"T_e10d5_row6_col1\" class=\"data row6 col1\" >32964</td>\n",
       "      <td id=\"T_e10d5_row6_col2\" class=\"data row6 col2\" >14942154</td>\n",
       "      <td id=\"T_e10d5_row6_col3\" class=\"data row6 col3\" >28.523810</td>\n",
       "      <td id=\"T_e10d5_row6_col4\" class=\"data row6 col4\" >99.779875</td>\n",
       "      <td id=\"T_e10d5_row6_col5\" class=\"data row6 col5\" >0.220125</td>\n",
       "      <td id=\"T_e10d5_row6_col6\" class=\"data row6 col6\" >45964278.000000</td>\n",
       "      <td id=\"T_e10d5_row6_col7\" class=\"data row6 col7\" >Oceania</td>\n",
       "    </tr>\n",
       "    <tr>\n",
       "      <th id=\"T_e10d5_level0_row7\" class=\"row_heading level0 row7\" >South America</th>\n",
       "      <td id=\"T_e10d5_row7_col0\" class=\"data row7 col0\" >68814202</td>\n",
       "      <td id=\"T_e10d5_row7_col1\" class=\"data row7 col1\" >1355949</td>\n",
       "      <td id=\"T_e10d5_row7_col2\" class=\"data row7 col2\" >67458253</td>\n",
       "      <td id=\"T_e10d5_row7_col3\" class=\"data row7 col3\" >30.857143</td>\n",
       "      <td id=\"T_e10d5_row7_col4\" class=\"data row7 col4\" >98.029551</td>\n",
       "      <td id=\"T_e10d5_row7_col5\" class=\"data row7 col5\" >1.970449</td>\n",
       "      <td id=\"T_e10d5_row7_col6\" class=\"data row7 col6\" >435607834.470000</td>\n",
       "      <td id=\"T_e10d5_row7_col7\" class=\"data row7 col7\" >South America</td>\n",
       "    </tr>\n",
       "    <tr>\n",
       "      <th id=\"T_e10d5_level0_row8\" class=\"row_heading level0 row8\" >Western Europe</th>\n",
       "      <td id=\"T_e10d5_row8_col0\" class=\"data row8 col0\" >190517776</td>\n",
       "      <td id=\"T_e10d5_row8_col1\" class=\"data row8 col1\" >1124207</td>\n",
       "      <td id=\"T_e10d5_row8_col2\" class=\"data row8 col2\" >189393569</td>\n",
       "      <td id=\"T_e10d5_row8_col3\" class=\"data row8 col3\" >43.000000</td>\n",
       "      <td id=\"T_e10d5_row8_col4\" class=\"data row8 col4\" >99.409920</td>\n",
       "      <td id=\"T_e10d5_row8_col5\" class=\"data row8 col5\" >0.590080</td>\n",
       "      <td id=\"T_e10d5_row8_col6\" class=\"data row8 col6\" >430808805.030000</td>\n",
       "      <td id=\"T_e10d5_row8_col7\" class=\"data row8 col7\" >Western Europe</td>\n",
       "    </tr>\n",
       "  </tbody>\n",
       "</table>\n"
      ],
      "text/plain": [
       "<pandas.io.formats.style.Styler at 0x1761d11e080>"
      ]
     },
     "execution_count": 17,
     "metadata": {},
     "output_type": "execute_result"
    }
   ],
   "source": [
    "#### Data Continental\n",
    "data_continentes=pd.DataFrame()\n",
    "data_continentes['Positivos_COVID'] = data.groupby(\"Continente\")[\"Cases\"].sum()\n",
    "data_continentes['Defunciones'] = data.groupby(\"Continente\")[\"Deaths\"].sum()\n",
    "data_continentes['Sanados'] = data.groupby(\"Continente\")[\"Sanados\"].sum()\n",
    "data_continentes['Edad Promedio'] = data.groupby(\"Continente\")[\"Med._Rate_AAge\"].mean()\n",
    "data_continentes['Sanados/Confirmados %']=(data.groupby(\"Continente\")[\"Sanados\"].sum()/data.groupby(\"Continente\")[\"Cases\"].sum())*100\n",
    "data_continentes['Defunciones/Confirmados %']=(data.groupby(\"Continente\")[\"Deaths\"].sum()/data.groupby(\"Continente\")[\"Cases\"].sum())*100\n",
    "data_continentes['Population-2024'] = data.groupby(\"Continente\")[\"Population-2024\"].sum()\n",
    "data_continentes['Continente']=data_continentes.index\n",
    "style_df(data_continentes)"
   ]
  },
  {
   "cell_type": "code",
   "execution_count": 18,
   "metadata": {},
   "outputs": [
    {
     "data": {
      "application/vnd.plotly.v1+json": {
       "config": {
        "plotlyServerURL": "https://plot.ly"
       },
       "data": [
        {
         "hovertemplate": "<b>%{hovertext}</b><br><br>Continente=Africa<br>Cases=%{marker.size}<br>Deaths=%{y}<extra></extra>",
         "hovertext": [
          "Algeria",
          "Angola",
          "Benin",
          "Botswana",
          "Burkina Faso",
          "Burundi",
          "Cabo Verde",
          "Cameroon",
          "Central African Republic",
          "Chad",
          "Comoros",
          "Djibouti",
          "Equatorial Guinea",
          "Eritrea",
          "Eswatini",
          "Ethiopia",
          "Gabon",
          "Gambia",
          "Ghana",
          "Guinea",
          "Guinea-Bissau",
          "Kenya",
          "Lesotho",
          "Liberia",
          "Libya",
          "Madagascar",
          "Malawi",
          "Mali",
          "Mauritania",
          "Mauritius",
          "Morocco",
          "Mozambique",
          "Namibia",
          "Niger",
          "Nigeria",
          "Rwanda",
          "Senegal",
          "Seychelles",
          "Sierra Leone",
          "Somalia",
          "South Africa",
          "South Sudan",
          "Sudan",
          "Tanzania",
          "Togo",
          "Tunisia",
          "Uganda",
          "Zambia",
          "Zimbabwe",
          "Réunion",
          "Mayotte"
         ],
         "legendgroup": "Africa",
         "marker": {
          "color": "#636efa",
          "size": [
           272157,
           107481,
           28036,
           330696,
           22139,
           54569,
           64474,
           125259,
           15441,
           7702,
           9109,
           15690,
           17130,
           10189,
           75356,
           501223,
           49051,
           12627,
           172080,
           38573,
           9614,
           344109,
           36138,
           8090,
           507269,
           68572,
           89168,
           33166,
           63875,
           328335,
           1279115,
           233843,
           172549,
           9518,
           267189,
           133266,
           89301,
           51891,
           7981,
           27334,
           4072796,
           18827,
           63993,
           43244,
           39530,
           1153361,
           172159,
           349871,
           266387,
           494595,
           42027
          ],
          "sizemode": "area",
          "sizeref": 28732.4525,
          "symbol": "circle"
         },
         "mode": "markers",
         "name": "Africa",
         "orientation": "v",
         "showlegend": true,
         "type": "scatter",
         "x": [
          272157,
          107481,
          28036,
          330696,
          22139,
          54569,
          64474,
          125259,
          15441,
          7702,
          9109,
          15690,
          17130,
          10189,
          75356,
          501223,
          49051,
          12627,
          172080,
          38573,
          9614,
          344109,
          36138,
          8090,
          507269,
          68572,
          89168,
          33166,
          63875,
          328335,
          1279115,
          233843,
          172549,
          9518,
          267189,
          133266,
          89301,
          51891,
          7981,
          27334,
          4072796,
          18827,
          63993,
          43244,
          39530,
          1153361,
          172159,
          349871,
          266387,
          494595,
          42027
         ],
         "xaxis": "x",
         "y": [
          6881,
          1937,
          163,
          2801,
          400,
          15,
          417,
          1974,
          113,
          194,
          160,
          189,
          183,
          103,
          1427,
          7574,
          307,
          372,
          1462,
          468,
          177,
          5689,
          709,
          294,
          6437,
          1428,
          2686,
          743,
          997,
          1074,
          16305,
          2252,
          4110,
          315,
          3155,
          1468,
          1972,
          172,
          126,
          1361,
          102595,
          147,
          5046,
          846,
          290,
          29423,
          3632,
          4078,
          5740,
          921,
          187
         ],
         "yaxis": "y"
        },
        {
         "hovertemplate": "<b>%{hovertext}</b><br><br>Continente=Central America<br>Cases=%{marker.size}<br>Deaths=%{y}<extra></extra>",
         "hovertext": [
          "Belize",
          "Costa Rica",
          "El Salvador",
          "Guatemala",
          "Honduras",
          "Nicaragua",
          "Panama",
          "Haiti",
          "Dominican Republic",
          "Cuba",
          "Puerto Rico",
          "Jamaica",
          "Trinidad and Tobago",
          "Bahamas",
          "Guadeloupe",
          "Martinique",
          "Barbados",
          "Curaçao",
          "Saint Lucia",
          "Grenada",
          "Aruba",
          "Antigua and Barbuda",
          "Cayman Islands",
          "Dominica",
          "Sint Maarten",
          "British Virgin Islands",
          "Caribbean Netherlands",
          "Anguilla",
          "Montserrat"
         ],
         "legendgroup": "Central America",
         "marker": {
          "color": "#EF553B",
          "size": [
           71416,
           1235479,
           201948,
           1250388,
           472904,
           16191,
           1044914,
           34515,
           661103,
           1113662,
           1252713,
           157283,
           191496,
           39127,
           203235,
           230354,
           108798,
           45883,
           30287,
           19693,
           44224,
           9106,
           31472,
           16047,
           11051,
           7557,
           11922,
           3904,
           1403
          ],
          "sizemode": "area",
          "sizeref": 28732.4525,
          "symbol": "circle"
         },
         "mode": "markers",
         "name": "Central America",
         "orientation": "v",
         "showlegend": true,
         "type": "scatter",
         "x": [
          71416,
          1235479,
          201948,
          1250388,
          472904,
          16191,
          1044914,
          34515,
          661103,
          1113662,
          1252713,
          157283,
          191496,
          39127,
          203235,
          230354,
          108798,
          45883,
          30287,
          19693,
          44224,
          9106,
          31472,
          16047,
          11051,
          7557,
          11922,
          3904,
          1403
         ],
         "xaxis": "x",
         "y": [
          688,
          9374,
          4230,
          20203,
          11114,
          245,
          8754,
          860,
          4384,
          8530,
          5938,
          3615,
          4390,
          849,
          1021,
          1104,
          593,
          305,
          410,
          238,
          292,
          146,
          37,
          74,
          92,
          64,
          41,
          12,
          8
         ],
         "yaxis": "y"
        },
        {
         "hovertemplate": "<b>%{hovertext}</b><br><br>Continente=North America<br>Cases=%{marker.size}<br>Deaths=%{y}<extra></extra>",
         "hovertext": [
          "Canada",
          "Mexico",
          "United States",
          "Bermuda",
          "Greenland"
         ],
         "legendgroup": "North America",
         "marker": {
          "color": "#00cc96",
          "size": [
           4819055,
           7621860,
           103436829,
           18860,
           11971
          ],
          "sizemode": "area",
          "sizeref": 28732.4525,
          "symbol": "circle"
         },
         "mode": "markers",
         "name": "North America",
         "orientation": "v",
         "showlegend": true,
         "type": "scatter",
         "x": [
          4819055,
          7621860,
          103436829,
          18860,
          11971
         ],
         "xaxis": "x",
         "y": [
          55282,
          334714,
          1199064,
          165,
          21
         ],
         "yaxis": "y"
        },
        {
         "hovertemplate": "<b>%{hovertext}</b><br><br>Continente=South America<br>Cases=%{marker.size}<br>Deaths=%{y}<extra></extra>",
         "hovertext": [
          "Argentina",
          "Bolivia",
          "Brazil",
          "Chile",
          "Colombia",
          "Ecuador",
          "Guyana",
          "Paraguay",
          "Peru",
          "Suriname",
          "Uruguay",
          "Venezuela",
          "French Guiana",
          "Falkland Islands"
         ],
         "legendgroup": "South America",
         "marker": {
          "color": "#ab63fa",
          "size": [
           10102262,
           1212149,
           37511921,
           5401806,
           6393753,
           1078505,
           74485,
           735759,
           4526977,
           82502,
           1041424,
           552695,
           98041,
           1923
          ],
          "sizemode": "area",
          "sizeref": 28732.4525,
          "symbol": "circle"
         },
         "mode": "markers",
         "name": "South America",
         "orientation": "v",
         "showlegend": true,
         "type": "scatter",
         "x": [
          10102262,
          1212149,
          37511921,
          5401806,
          6393753,
          1078505,
          74485,
          735759,
          4526977,
          82502,
          1041424,
          552695,
          98041,
          1923
         ],
         "xaxis": "x",
         "y": [
          130671,
          22387,
          702116,
          64482,
          142727,
          36052,
          1302,
          19880,
          220975,
          1406,
          7682,
          5856,
          413,
          0
         ],
         "yaxis": "y"
        },
        {
         "hovertemplate": "<b>%{hovertext}</b><br><br>Continente=Asia<br>Cases=%{marker.size}<br>Deaths=%{y}<extra></extra>",
         "hovertext": [
          "Afghanistan",
          "Armenia",
          "Azerbaijan",
          "Bangladesh",
          "Bhutan",
          "Brunei",
          "Cambodia",
          "China",
          "Georgia",
          "India",
          "Indonesia",
          "Japan",
          "Kazakhstan",
          "Kyrgyzstan",
          "Laos",
          "Malaysia",
          "Maldives",
          "Mongolia",
          "Nepal",
          "North Korea",
          "Pakistan",
          "Philippines",
          "Singapore",
          "South Korea",
          "Sri Lanka",
          "Taiwan",
          "Tajikistan",
          "Thailand",
          "Timor-Leste",
          "Turkmenistan",
          "Uzbekistan",
          "Vietnam",
          "Myanmar",
          "Hong Kong"
         ],
         "legendgroup": "Asia",
         "marker": {
          "color": "#FFA15A",
          "size": [
           235214,
           452273,
           836147,
           2051399,
           62697,
           348487,
           139324,
           99379706,
           1863615,
           45043037,
           6829549,
           33803572,
           1504370,
           88953,
           219060,
           5312619,
           186694,
           1011489,
           1003450,
           0,
           1580631,
           4173631,
           3006155,
           34571873,
           672802,
           9970937,
           17786,
           4801275,
           23460,
           0,
           175081,
           11624000,
           643049,
           2876106
          ],
          "sizemode": "area",
          "sizeref": 28732.4525,
          "symbol": "circle"
         },
         "mode": "markers",
         "name": "Asia",
         "orientation": "v",
         "showlegend": true,
         "type": "scatter",
         "x": [
          235214,
          452273,
          836147,
          2051399,
          62697,
          348487,
          139324,
          99379706,
          1863615,
          45043037,
          6829549,
          33803572,
          1504370,
          88953,
          219060,
          5312619,
          186694,
          1011489,
          1003450,
          0,
          1580631,
          4173631,
          3006155,
          34571873,
          672802,
          9970937,
          17786,
          4801275,
          23460,
          0,
          175081,
          11624000,
          643049,
          2876106
         ],
         "xaxis": "x",
         "y": [
          7998,
          8777,
          10353,
          29499,
          21,
          181,
          3056,
          122351,
          17150,
          533636,
          162059,
          74694,
          19072,
          1024,
          671,
          37351,
          316,
          2136,
          12031,
          0,
          30656,
          66864,
          2024,
          35934,
          16907,
          17672,
          125,
          34722,
          138,
          0,
          1016,
          43206,
          19494,
          13466
         ],
         "yaxis": "y"
        },
        {
         "hovertemplate": "<b>%{hovertext}</b><br><br>Continente=Middle East<br>Cases=%{marker.size}<br>Deaths=%{y}<extra></extra>",
         "hovertext": [
          "Bahrain",
          "Cyprus",
          "Egypt",
          "Iran",
          "Iraq",
          "Israel",
          "Jordan",
          "Kuwait",
          "Lebanon",
          "Oman",
          "Palestine",
          "Qatar",
          "Saudi Arabia",
          "Syria",
          "United Arab Emirates",
          "Turkey",
          "Yemen"
         ],
         "legendgroup": "Middle East",
         "marker": {
          "color": "#19d3f3",
          "size": [
           696614,
           698847,
           516023,
           7627863,
           2465545,
           4841558,
           1746997,
           667290,
           1239904,
           399449,
           703228,
           514524,
           841469,
           57423,
           1067030,
           17004724,
           11945
          ],
          "sizemode": "area",
          "sizeref": 28732.4525,
          "symbol": "circle"
         },
         "mode": "markers",
         "name": "Middle East",
         "orientation": "v",
         "showlegend": true,
         "type": "scatter",
         "x": [
          696614,
          698847,
          516023,
          7627863,
          2465545,
          4841558,
          1746997,
          667290,
          1239904,
          399449,
          703228,
          514524,
          841469,
          57423,
          1067030,
          17004724,
          11945
         ],
         "xaxis": "x",
         "y": [
          1536,
          1482,
          24830,
          146837,
          25375,
          12707,
          14122,
          2570,
          10947,
          4628,
          5708,
          690,
          9646,
          3163,
          2349,
          101419,
          2159
         ],
         "yaxis": "y"
        },
        {
         "hovertemplate": "<b>%{hovertext}</b><br><br>Continente=Western Europe<br>Cases=%{marker.size}<br>Deaths=%{y}<extra></extra>",
         "hovertext": [
          "Austria",
          "Belgium",
          "France",
          "Germany",
          "Ireland",
          "Liechtenstein",
          "Luxembourg",
          "Monaco",
          "Netherlands",
          "Switzerland",
          "United Kingdom",
          "Italy",
          "Spain",
          "Sweden",
          "Portugal",
          "Greece",
          "Denmark",
          "Finland",
          "Norway",
          "Malta",
          "Iceland",
          "Isle of Man",
          "Andorra",
          "Gibraltar",
          "San Marino"
         ],
         "legendgroup": "Western Europe",
         "marker": {
          "color": "#FF6692",
          "size": [
           6082516,
           4878273,
           38997490,
           38437756,
           1746696,
           21591,
           394254,
           17181,
           8641668,
           4460736,
           24985434,
           26826486,
           13980340,
           2759797,
           5667254,
           5697781,
           3439642,
           1499712,
           1517803,
           122967,
           210534,
           38008,
           48015,
           20550,
           25292
          ],
          "sizemode": "area",
          "sizeref": 28732.4525,
          "symbol": "circle"
         },
         "mode": "markers",
         "name": "Western Europe",
         "orientation": "v",
         "showlegend": true,
         "type": "scatter",
         "x": [
          6082516,
          4878273,
          38997490,
          38437756,
          1746696,
          21591,
          394254,
          17181,
          8641668,
          4460736,
          24985434,
          26826486,
          13980340,
          2759797,
          5667254,
          5697781,
          3439642,
          1499712,
          1517803,
          122967,
          210534,
          38008,
          48015,
          20550,
          25292
         ],
         "xaxis": "x",
         "y": [
          22534,
          34339,
          168091,
          174979,
          9781,
          89,
          1000,
          67,
          22986,
          14170,
          232112,
          197542,
          121852,
          27630,
          28942,
          39451,
          9808,
          11466,
          5732,
          936,
          186,
          116,
          159,
          113,
          126
         ],
         "yaxis": "y"
        },
        {
         "hovertemplate": "<b>%{hovertext}</b><br><br>Continente=Eastern Europe<br>Cases=%{marker.size}<br>Deaths=%{y}<extra></extra>",
         "hovertext": [
          "Albania",
          "Belarus",
          "Bosnia and Herzegovina",
          "Bulgaria",
          "Croatia",
          "Czech Republic",
          "Estonia",
          "Hungary",
          "Latvia",
          "Lithuania",
          "Moldova",
          "Montenegro",
          "North Macedonia",
          "Poland",
          "Romania",
          "Russia",
          "Serbia",
          "Slovakia",
          "Slovenia",
          "Ukraine"
         ],
         "legendgroup": "Eastern Europe",
         "marker": {
          "color": "#B6E880",
          "size": [
           335047,
           994037,
           403729,
           1332982,
           1332297,
           4769243,
           610471,
           2231740,
           977765,
           1379285,
           647329,
           251280,
           351819,
           6702201,
           3563055,
           24355785,
           2583470,
           1878844,
           1357690,
           5538518
          ],
          "sizemode": "area",
          "sizeref": 28732.4525,
          "symbol": "circle"
         },
         "mode": "markers",
         "name": "Eastern Europe",
         "orientation": "v",
         "showlegend": true,
         "type": "scatter",
         "x": [
          335047,
          994037,
          403729,
          1332982,
          1332297,
          4769243,
          610471,
          2231740,
          977765,
          1379285,
          647329,
          251280,
          351819,
          6702201,
          3563055,
          24355785,
          2583470,
          1878844,
          1357690,
          5538518
         ],
         "xaxis": "x",
         "y": [
          3605,
          7118,
          16396,
          38711,
          18760,
          43531,
          2998,
          49063,
          7475,
          9818,
          12266,
          2654,
          9981,
          120792,
          68893,
          403292,
          18057,
          21230,
          9710,
          109923
         ],
         "yaxis": "y"
        },
        {
         "hovertemplate": "<b>%{hovertext}</b><br><br>Continente=Oceania<br>Cases=%{marker.size}<br>Deaths=%{y}<extra></extra>",
         "hovertext": [
          "Australia",
          "Fiji",
          "Kiribati",
          "Marshall Islands",
          "Nauru",
          "New Zealand",
          "Palau",
          "Papua New Guinea",
          "Samoa",
          "Solomon Islands",
          "Tonga",
          "Tuvalu",
          "Vanuatu",
          "New Caledonia",
          "French Polynesia",
          "Guam",
          "American Samoa",
          "Northern Mariana Islands",
          "Cook Islands",
          "Tokelau",
          "Niue"
         ],
         "legendgroup": "Oceania",
         "marker": {
          "color": "#FF97FF",
          "size": [
           11861161,
           69047,
           5085,
           16297,
           5393,
           2646131,
           6372,
           46864,
           17057,
           25954,
           16992,
           2943,
           12019,
           80203,
           79440,
           52287,
           8359,
           14972,
           7375,
           80,
           1087
          ],
          "sizemode": "area",
          "sizeref": 28732.4525,
          "symbol": "circle"
         },
         "mode": "markers",
         "name": "Oceania",
         "orientation": "v",
         "showlegend": true,
         "type": "scatter",
         "x": [
          11861161,
          69047,
          5085,
          16297,
          5393,
          2646131,
          6372,
          46864,
          17057,
          25954,
          16992,
          2943,
          12019,
          80203,
          79440,
          52287,
          8359,
          14972,
          7375,
          80,
          1087
         ],
         "xaxis": "x",
         "y": [
          25236,
          885,
          24,
          17,
          1,
          4403,
          10,
          670,
          31,
          199,
          13,
          1,
          14,
          314,
          650,
          419,
          34,
          41,
          2,
          0,
          0
         ],
         "yaxis": "y"
        }
       ],
       "layout": {
        "legend": {
         "itemsizing": "constant",
         "title": {
          "text": "Continente"
         },
         "tracegroupgap": 0
        },
        "template": {
         "data": {
          "bar": [
           {
            "error_x": {
             "color": "#2a3f5f"
            },
            "error_y": {
             "color": "#2a3f5f"
            },
            "marker": {
             "line": {
              "color": "#E5ECF6",
              "width": 0.5
             },
             "pattern": {
              "fillmode": "overlay",
              "size": 10,
              "solidity": 0.2
             }
            },
            "type": "bar"
           }
          ],
          "barpolar": [
           {
            "marker": {
             "line": {
              "color": "#E5ECF6",
              "width": 0.5
             },
             "pattern": {
              "fillmode": "overlay",
              "size": 10,
              "solidity": 0.2
             }
            },
            "type": "barpolar"
           }
          ],
          "carpet": [
           {
            "aaxis": {
             "endlinecolor": "#2a3f5f",
             "gridcolor": "white",
             "linecolor": "white",
             "minorgridcolor": "white",
             "startlinecolor": "#2a3f5f"
            },
            "baxis": {
             "endlinecolor": "#2a3f5f",
             "gridcolor": "white",
             "linecolor": "white",
             "minorgridcolor": "white",
             "startlinecolor": "#2a3f5f"
            },
            "type": "carpet"
           }
          ],
          "choropleth": [
           {
            "colorbar": {
             "outlinewidth": 0,
             "ticks": ""
            },
            "type": "choropleth"
           }
          ],
          "contour": [
           {
            "colorbar": {
             "outlinewidth": 0,
             "ticks": ""
            },
            "colorscale": [
             [
              0,
              "#0d0887"
             ],
             [
              0.1111111111111111,
              "#46039f"
             ],
             [
              0.2222222222222222,
              "#7201a8"
             ],
             [
              0.3333333333333333,
              "#9c179e"
             ],
             [
              0.4444444444444444,
              "#bd3786"
             ],
             [
              0.5555555555555556,
              "#d8576b"
             ],
             [
              0.6666666666666666,
              "#ed7953"
             ],
             [
              0.7777777777777778,
              "#fb9f3a"
             ],
             [
              0.8888888888888888,
              "#fdca26"
             ],
             [
              1,
              "#f0f921"
             ]
            ],
            "type": "contour"
           }
          ],
          "contourcarpet": [
           {
            "colorbar": {
             "outlinewidth": 0,
             "ticks": ""
            },
            "type": "contourcarpet"
           }
          ],
          "heatmap": [
           {
            "colorbar": {
             "outlinewidth": 0,
             "ticks": ""
            },
            "colorscale": [
             [
              0,
              "#0d0887"
             ],
             [
              0.1111111111111111,
              "#46039f"
             ],
             [
              0.2222222222222222,
              "#7201a8"
             ],
             [
              0.3333333333333333,
              "#9c179e"
             ],
             [
              0.4444444444444444,
              "#bd3786"
             ],
             [
              0.5555555555555556,
              "#d8576b"
             ],
             [
              0.6666666666666666,
              "#ed7953"
             ],
             [
              0.7777777777777778,
              "#fb9f3a"
             ],
             [
              0.8888888888888888,
              "#fdca26"
             ],
             [
              1,
              "#f0f921"
             ]
            ],
            "type": "heatmap"
           }
          ],
          "heatmapgl": [
           {
            "colorbar": {
             "outlinewidth": 0,
             "ticks": ""
            },
            "colorscale": [
             [
              0,
              "#0d0887"
             ],
             [
              0.1111111111111111,
              "#46039f"
             ],
             [
              0.2222222222222222,
              "#7201a8"
             ],
             [
              0.3333333333333333,
              "#9c179e"
             ],
             [
              0.4444444444444444,
              "#bd3786"
             ],
             [
              0.5555555555555556,
              "#d8576b"
             ],
             [
              0.6666666666666666,
              "#ed7953"
             ],
             [
              0.7777777777777778,
              "#fb9f3a"
             ],
             [
              0.8888888888888888,
              "#fdca26"
             ],
             [
              1,
              "#f0f921"
             ]
            ],
            "type": "heatmapgl"
           }
          ],
          "histogram": [
           {
            "marker": {
             "pattern": {
              "fillmode": "overlay",
              "size": 10,
              "solidity": 0.2
             }
            },
            "type": "histogram"
           }
          ],
          "histogram2d": [
           {
            "colorbar": {
             "outlinewidth": 0,
             "ticks": ""
            },
            "colorscale": [
             [
              0,
              "#0d0887"
             ],
             [
              0.1111111111111111,
              "#46039f"
             ],
             [
              0.2222222222222222,
              "#7201a8"
             ],
             [
              0.3333333333333333,
              "#9c179e"
             ],
             [
              0.4444444444444444,
              "#bd3786"
             ],
             [
              0.5555555555555556,
              "#d8576b"
             ],
             [
              0.6666666666666666,
              "#ed7953"
             ],
             [
              0.7777777777777778,
              "#fb9f3a"
             ],
             [
              0.8888888888888888,
              "#fdca26"
             ],
             [
              1,
              "#f0f921"
             ]
            ],
            "type": "histogram2d"
           }
          ],
          "histogram2dcontour": [
           {
            "colorbar": {
             "outlinewidth": 0,
             "ticks": ""
            },
            "colorscale": [
             [
              0,
              "#0d0887"
             ],
             [
              0.1111111111111111,
              "#46039f"
             ],
             [
              0.2222222222222222,
              "#7201a8"
             ],
             [
              0.3333333333333333,
              "#9c179e"
             ],
             [
              0.4444444444444444,
              "#bd3786"
             ],
             [
              0.5555555555555556,
              "#d8576b"
             ],
             [
              0.6666666666666666,
              "#ed7953"
             ],
             [
              0.7777777777777778,
              "#fb9f3a"
             ],
             [
              0.8888888888888888,
              "#fdca26"
             ],
             [
              1,
              "#f0f921"
             ]
            ],
            "type": "histogram2dcontour"
           }
          ],
          "mesh3d": [
           {
            "colorbar": {
             "outlinewidth": 0,
             "ticks": ""
            },
            "type": "mesh3d"
           }
          ],
          "parcoords": [
           {
            "line": {
             "colorbar": {
              "outlinewidth": 0,
              "ticks": ""
             }
            },
            "type": "parcoords"
           }
          ],
          "pie": [
           {
            "automargin": true,
            "type": "pie"
           }
          ],
          "scatter": [
           {
            "fillpattern": {
             "fillmode": "overlay",
             "size": 10,
             "solidity": 0.2
            },
            "type": "scatter"
           }
          ],
          "scatter3d": [
           {
            "line": {
             "colorbar": {
              "outlinewidth": 0,
              "ticks": ""
             }
            },
            "marker": {
             "colorbar": {
              "outlinewidth": 0,
              "ticks": ""
             }
            },
            "type": "scatter3d"
           }
          ],
          "scattercarpet": [
           {
            "marker": {
             "colorbar": {
              "outlinewidth": 0,
              "ticks": ""
             }
            },
            "type": "scattercarpet"
           }
          ],
          "scattergeo": [
           {
            "marker": {
             "colorbar": {
              "outlinewidth": 0,
              "ticks": ""
             }
            },
            "type": "scattergeo"
           }
          ],
          "scattergl": [
           {
            "marker": {
             "colorbar": {
              "outlinewidth": 0,
              "ticks": ""
             }
            },
            "type": "scattergl"
           }
          ],
          "scattermapbox": [
           {
            "marker": {
             "colorbar": {
              "outlinewidth": 0,
              "ticks": ""
             }
            },
            "type": "scattermapbox"
           }
          ],
          "scatterpolar": [
           {
            "marker": {
             "colorbar": {
              "outlinewidth": 0,
              "ticks": ""
             }
            },
            "type": "scatterpolar"
           }
          ],
          "scatterpolargl": [
           {
            "marker": {
             "colorbar": {
              "outlinewidth": 0,
              "ticks": ""
             }
            },
            "type": "scatterpolargl"
           }
          ],
          "scatterternary": [
           {
            "marker": {
             "colorbar": {
              "outlinewidth": 0,
              "ticks": ""
             }
            },
            "type": "scatterternary"
           }
          ],
          "surface": [
           {
            "colorbar": {
             "outlinewidth": 0,
             "ticks": ""
            },
            "colorscale": [
             [
              0,
              "#0d0887"
             ],
             [
              0.1111111111111111,
              "#46039f"
             ],
             [
              0.2222222222222222,
              "#7201a8"
             ],
             [
              0.3333333333333333,
              "#9c179e"
             ],
             [
              0.4444444444444444,
              "#bd3786"
             ],
             [
              0.5555555555555556,
              "#d8576b"
             ],
             [
              0.6666666666666666,
              "#ed7953"
             ],
             [
              0.7777777777777778,
              "#fb9f3a"
             ],
             [
              0.8888888888888888,
              "#fdca26"
             ],
             [
              1,
              "#f0f921"
             ]
            ],
            "type": "surface"
           }
          ],
          "table": [
           {
            "cells": {
             "fill": {
              "color": "#EBF0F8"
             },
             "line": {
              "color": "white"
             }
            },
            "header": {
             "fill": {
              "color": "#C8D4E3"
             },
             "line": {
              "color": "white"
             }
            },
            "type": "table"
           }
          ]
         },
         "layout": {
          "annotationdefaults": {
           "arrowcolor": "#2a3f5f",
           "arrowhead": 0,
           "arrowwidth": 1
          },
          "autotypenumbers": "strict",
          "coloraxis": {
           "colorbar": {
            "outlinewidth": 0,
            "ticks": ""
           }
          },
          "colorscale": {
           "diverging": [
            [
             0,
             "#8e0152"
            ],
            [
             0.1,
             "#c51b7d"
            ],
            [
             0.2,
             "#de77ae"
            ],
            [
             0.3,
             "#f1b6da"
            ],
            [
             0.4,
             "#fde0ef"
            ],
            [
             0.5,
             "#f7f7f7"
            ],
            [
             0.6,
             "#e6f5d0"
            ],
            [
             0.7,
             "#b8e186"
            ],
            [
             0.8,
             "#7fbc41"
            ],
            [
             0.9,
             "#4d9221"
            ],
            [
             1,
             "#276419"
            ]
           ],
           "sequential": [
            [
             0,
             "#0d0887"
            ],
            [
             0.1111111111111111,
             "#46039f"
            ],
            [
             0.2222222222222222,
             "#7201a8"
            ],
            [
             0.3333333333333333,
             "#9c179e"
            ],
            [
             0.4444444444444444,
             "#bd3786"
            ],
            [
             0.5555555555555556,
             "#d8576b"
            ],
            [
             0.6666666666666666,
             "#ed7953"
            ],
            [
             0.7777777777777778,
             "#fb9f3a"
            ],
            [
             0.8888888888888888,
             "#fdca26"
            ],
            [
             1,
             "#f0f921"
            ]
           ],
           "sequentialminus": [
            [
             0,
             "#0d0887"
            ],
            [
             0.1111111111111111,
             "#46039f"
            ],
            [
             0.2222222222222222,
             "#7201a8"
            ],
            [
             0.3333333333333333,
             "#9c179e"
            ],
            [
             0.4444444444444444,
             "#bd3786"
            ],
            [
             0.5555555555555556,
             "#d8576b"
            ],
            [
             0.6666666666666666,
             "#ed7953"
            ],
            [
             0.7777777777777778,
             "#fb9f3a"
            ],
            [
             0.8888888888888888,
             "#fdca26"
            ],
            [
             1,
             "#f0f921"
            ]
           ]
          },
          "colorway": [
           "#636efa",
           "#EF553B",
           "#00cc96",
           "#ab63fa",
           "#FFA15A",
           "#19d3f3",
           "#FF6692",
           "#B6E880",
           "#FF97FF",
           "#FECB52"
          ],
          "font": {
           "color": "#2a3f5f"
          },
          "geo": {
           "bgcolor": "white",
           "lakecolor": "white",
           "landcolor": "#E5ECF6",
           "showlakes": true,
           "showland": true,
           "subunitcolor": "white"
          },
          "hoverlabel": {
           "align": "left"
          },
          "hovermode": "closest",
          "mapbox": {
           "style": "light"
          },
          "paper_bgcolor": "white",
          "plot_bgcolor": "#E5ECF6",
          "polar": {
           "angularaxis": {
            "gridcolor": "white",
            "linecolor": "white",
            "ticks": ""
           },
           "bgcolor": "#E5ECF6",
           "radialaxis": {
            "gridcolor": "white",
            "linecolor": "white",
            "ticks": ""
           }
          },
          "scene": {
           "xaxis": {
            "backgroundcolor": "#E5ECF6",
            "gridcolor": "white",
            "gridwidth": 2,
            "linecolor": "white",
            "showbackground": true,
            "ticks": "",
            "zerolinecolor": "white"
           },
           "yaxis": {
            "backgroundcolor": "#E5ECF6",
            "gridcolor": "white",
            "gridwidth": 2,
            "linecolor": "white",
            "showbackground": true,
            "ticks": "",
            "zerolinecolor": "white"
           },
           "zaxis": {
            "backgroundcolor": "#E5ECF6",
            "gridcolor": "white",
            "gridwidth": 2,
            "linecolor": "white",
            "showbackground": true,
            "ticks": "",
            "zerolinecolor": "white"
           }
          },
          "shapedefaults": {
           "line": {
            "color": "#2a3f5f"
           }
          },
          "ternary": {
           "aaxis": {
            "gridcolor": "white",
            "linecolor": "white",
            "ticks": ""
           },
           "baxis": {
            "gridcolor": "white",
            "linecolor": "white",
            "ticks": ""
           },
           "bgcolor": "#E5ECF6",
           "caxis": {
            "gridcolor": "white",
            "linecolor": "white",
            "ticks": ""
           }
          },
          "title": {
           "x": 0.05
          },
          "xaxis": {
           "automargin": true,
           "gridcolor": "white",
           "linecolor": "white",
           "ticks": "",
           "title": {
            "standoff": 15
           },
           "zerolinecolor": "white",
           "zerolinewidth": 2
          },
          "yaxis": {
           "automargin": true,
           "gridcolor": "white",
           "linecolor": "white",
           "ticks": "",
           "title": {
            "standoff": 15
           },
           "zerolinecolor": "white",
           "zerolinewidth": 2
          }
         }
        },
        "title": {
         "text": "Relación Positivos COVID y Muertes x Pais y Contienente"
        },
        "xaxis": {
         "anchor": "y",
         "domain": [
          0,
          1
         ],
         "title": {
          "text": "Cases"
         }
        },
        "yaxis": {
         "anchor": "x",
         "domain": [
          0,
          1
         ],
         "title": {
          "text": "Deaths"
         }
        }
       }
      }
     },
     "metadata": {},
     "output_type": "display_data"
    }
   ],
   "source": [
    "fig2=px.scatter(data,x=\"Cases\",y=\"Deaths\",size=\"Cases\",color=\"Continente\",size_max=60,hover_name=\"Pais\",title=\"Relación Positivos COVID y Muertes x Pais y Contienente\")\n",
    "fig2.show()"
   ]
  },
  {
   "cell_type": "code",
   "execution_count": 19,
   "metadata": {},
   "outputs": [
    {
     "data": {
      "application/vnd.plotly.v1+json": {
       "config": {
        "plotlyServerURL": "https://plot.ly"
       },
       "data": [
        {
         "geo": "geo",
         "hovertemplate": "<b>%{hovertext}</b><br><br>Continente=Africa<br>Cases=%{marker.size}<br>iso_alpha=%{location}<extra></extra>",
         "hovertext": [
          "Algeria",
          "Angola",
          "Benin",
          "Botswana",
          "Burkina Faso",
          "Burundi",
          "Cameroon",
          "Central African Republic",
          "Chad",
          "Comoros",
          "Djibouti",
          "Equatorial Guinea",
          "Eritrea",
          "Ethiopia",
          "Gabon",
          "Gambia",
          "Ghana",
          "Guinea",
          "Guinea-Bissau",
          "Kenya",
          "Lesotho",
          "Liberia",
          "Libya",
          "Madagascar",
          "Malawi",
          "Mali",
          "Mauritania",
          "Mauritius",
          "Morocco",
          "Mozambique",
          "Namibia",
          "Niger",
          "Nigeria",
          "Rwanda",
          "Senegal",
          "Sierra Leone",
          "Somalia",
          "South Africa",
          "Sudan",
          "Tanzania",
          "Togo",
          "Tunisia",
          "Uganda",
          "Zambia",
          "Zimbabwe"
         ],
         "legendgroup": "Africa",
         "locations": [
          "DZA",
          "AGO",
          "BEN",
          "BWA",
          "BFA",
          "BDI",
          "CMR",
          "CAF",
          "TCD",
          "COM",
          "DJI",
          "GNQ",
          "ERI",
          "ETH",
          "GAB",
          "GMB",
          "GHA",
          "GIN",
          "GNB",
          "KEN",
          "LSO",
          "LBR",
          "LBY",
          "MDG",
          "MWI",
          "MLI",
          "MRT",
          "MUS",
          "MAR",
          "MOZ",
          "NAM",
          "NER",
          "NGA",
          "RWA",
          "SEN",
          "SLE",
          "SOM",
          "ZAF",
          "SDN",
          "TZA",
          "TGO",
          "TUN",
          "UGA",
          "ZMB",
          "ZWE"
         ],
         "marker": {
          "color": "#636efa",
          "size": [
           272157,
           107481,
           28036,
           330696,
           22139,
           54569,
           125259,
           15441,
           7702,
           9109,
           15690,
           17130,
           10189,
           501223,
           49051,
           12627,
           172080,
           38573,
           9614,
           344109,
           36138,
           8090,
           507269,
           68572,
           89168,
           33166,
           63875,
           328335,
           1279115,
           233843,
           172549,
           9518,
           267189,
           133266,
           89301,
           7981,
           27334,
           4072796,
           63993,
           43244,
           39530,
           1153361,
           172159,
           349871,
           266387
          ],
          "sizemode": "area",
          "sizeref": 258592.0725,
          "symbol": "circle"
         },
         "mode": "markers",
         "name": "Africa",
         "showlegend": true,
         "type": "scattergeo"
        },
        {
         "geo": "geo",
         "hovertemplate": "<b>%{hovertext}</b><br><br>Continente=Central America<br>Cases=%{marker.size}<br>iso_alpha=%{location}<extra></extra>",
         "hovertext": [
          "Costa Rica",
          "El Salvador",
          "Guatemala",
          "Honduras",
          "Nicaragua",
          "Panama",
          "Haiti",
          "Dominican Republic",
          "Cuba",
          "Puerto Rico",
          "Jamaica",
          "Trinidad and Tobago"
         ],
         "legendgroup": "Central America",
         "locations": [
          "CRI",
          "SLV",
          "GTM",
          "HND",
          "NIC",
          "PAN",
          "HTI",
          "DOM",
          "CUB",
          "PRI",
          "JAM",
          "TTO"
         ],
         "marker": {
          "color": "#EF553B",
          "size": [
           1235479,
           201948,
           1250388,
           472904,
           16191,
           1044914,
           34515,
           661103,
           1113662,
           1252713,
           157283,
           191496
          ],
          "sizemode": "area",
          "sizeref": 258592.0725,
          "symbol": "circle"
         },
         "mode": "markers",
         "name": "Central America",
         "showlegend": true,
         "type": "scattergeo"
        },
        {
         "geo": "geo",
         "hovertemplate": "<b>%{hovertext}</b><br><br>Continente=North America<br>Cases=%{marker.size}<br>iso_alpha=%{location}<extra></extra>",
         "hovertext": [
          "Canada",
          "Mexico",
          "United States"
         ],
         "legendgroup": "North America",
         "locations": [
          "CAN",
          "MEX",
          "USA"
         ],
         "marker": {
          "color": "#00cc96",
          "size": [
           4819055,
           7621860,
           103436829
          ],
          "sizemode": "area",
          "sizeref": 258592.0725,
          "symbol": "circle"
         },
         "mode": "markers",
         "name": "North America",
         "showlegend": true,
         "type": "scattergeo"
        },
        {
         "geo": "geo",
         "hovertemplate": "<b>%{hovertext}</b><br><br>Continente=South America<br>Cases=%{marker.size}<br>iso_alpha=%{location}<extra></extra>",
         "hovertext": [
          "Argentina",
          "Bolivia",
          "Brazil",
          "Chile",
          "Colombia",
          "Ecuador",
          "Paraguay",
          "Peru",
          "Uruguay",
          "Venezuela"
         ],
         "legendgroup": "South America",
         "locations": [
          "ARG",
          "BOL",
          "BRA",
          "CHL",
          "COL",
          "ECU",
          "PRY",
          "PER",
          "URY",
          "VEN"
         ],
         "marker": {
          "color": "#ab63fa",
          "size": [
           10102262,
           1212149,
           37511921,
           5401806,
           6393753,
           1078505,
           735759,
           4526977,
           1041424,
           552695
          ],
          "sizemode": "area",
          "sizeref": 258592.0725,
          "symbol": "circle"
         },
         "mode": "markers",
         "name": "South America",
         "showlegend": true,
         "type": "scattergeo"
        },
        {
         "geo": "geo",
         "hovertemplate": "<b>%{hovertext}</b><br><br>Continente=Asia<br>Cases=%{marker.size}<br>iso_alpha=%{location}<extra></extra>",
         "hovertext": [
          "Afghanistan",
          "Bangladesh",
          "Cambodia",
          "China",
          "India",
          "Indonesia",
          "Japan",
          "Malaysia",
          "Mongolia",
          "Nepal",
          "Pakistan",
          "Philippines",
          "Singapore",
          "Sri Lanka",
          "Taiwan",
          "Thailand",
          "Vietnam",
          "Myanmar"
         ],
         "legendgroup": "Asia",
         "locations": [
          "AFG",
          "BGD",
          "KHM",
          "CHN",
          "IND",
          "IDN",
          "JPN",
          "MYS",
          "MNG",
          "NPL",
          "PAK",
          "PHL",
          "SGP",
          "LKA",
          "TWN",
          "THA",
          "VNM",
          "MMR"
         ],
         "marker": {
          "color": "#FFA15A",
          "size": [
           235214,
           2051399,
           139324,
           99379706,
           45043037,
           6829549,
           33803572,
           5312619,
           1011489,
           1003450,
           1580631,
           4173631,
           3006155,
           672802,
           9970937,
           4801275,
           11624000,
           643049
          ],
          "sizemode": "area",
          "sizeref": 258592.0725,
          "symbol": "circle"
         },
         "mode": "markers",
         "name": "Asia",
         "showlegend": true,
         "type": "scattergeo"
        },
        {
         "geo": "geo",
         "hovertemplate": "<b>%{hovertext}</b><br><br>Continente=Middle East<br>Cases=%{marker.size}<br>iso_alpha=%{location}<extra></extra>",
         "hovertext": [
          "Bahrain",
          "Egypt",
          "Iran",
          "Iraq",
          "Israel",
          "Jordan",
          "Kuwait",
          "Lebanon",
          "Oman",
          "Saudi Arabia",
          "Syria",
          "Turkey"
         ],
         "legendgroup": "Middle East",
         "locations": [
          "BHR",
          "EGY",
          "IRN",
          "IRQ",
          "ISR",
          "JOR",
          "KWT",
          "LBN",
          "OMN",
          "SAU",
          "SYR",
          "TUR"
         ],
         "marker": {
          "color": "#19d3f3",
          "size": [
           696614,
           516023,
           7627863,
           2465545,
           4841558,
           1746997,
           667290,
           1239904,
           399449,
           841469,
           57423,
           17004724
          ],
          "sizemode": "area",
          "sizeref": 258592.0725,
          "symbol": "circle"
         },
         "mode": "markers",
         "name": "Middle East",
         "showlegend": true,
         "type": "scattergeo"
        },
        {
         "geo": "geo",
         "hovertemplate": "<b>%{hovertext}</b><br><br>Continente=Western Europe<br>Cases=%{marker.size}<br>iso_alpha=%{location}<extra></extra>",
         "hovertext": [
          "Austria",
          "Belgium",
          "France",
          "Germany",
          "Ireland",
          "Netherlands",
          "Switzerland",
          "United Kingdom",
          "Italy",
          "Spain",
          "Sweden",
          "Portugal",
          "Greece",
          "Denmark",
          "Finland",
          "Norway",
          "Iceland"
         ],
         "legendgroup": "Western Europe",
         "locations": [
          "AUT",
          "BEL",
          "FRA",
          "DEU",
          "IRL",
          "NLD",
          "CHE",
          "GBR",
          "ITA",
          "ESP",
          "SWE",
          "PRT",
          "GRC",
          "DNK",
          "FIN",
          "NOR",
          "ISL"
         ],
         "marker": {
          "color": "#FF6692",
          "size": [
           6082516,
           4878273,
           38997490,
           38437756,
           1746696,
           8641668,
           4460736,
           24985434,
           26826486,
           13980340,
           2759797,
           5667254,
           5697781,
           3439642,
           1499712,
           1517803,
           210534
          ],
          "sizemode": "area",
          "sizeref": 258592.0725,
          "symbol": "circle"
         },
         "mode": "markers",
         "name": "Western Europe",
         "showlegend": true,
         "type": "scattergeo"
        },
        {
         "geo": "geo",
         "hovertemplate": "<b>%{hovertext}</b><br><br>Continente=Eastern Europe<br>Cases=%{marker.size}<br>iso_alpha=%{location}<extra></extra>",
         "hovertext": [
          "Albania",
          "Bosnia and Herzegovina",
          "Bulgaria",
          "Croatia",
          "Czech Republic",
          "Hungary",
          "Montenegro",
          "Poland",
          "Romania",
          "Serbia",
          "Slovenia"
         ],
         "legendgroup": "Eastern Europe",
         "locations": [
          "ALB",
          "BIH",
          "BGR",
          "HRV",
          "CZE",
          "HUN",
          "MNE",
          "POL",
          "ROU",
          "SRB",
          "SVN"
         ],
         "marker": {
          "color": "#B6E880",
          "size": [
           335047,
           403729,
           1332982,
           1332297,
           4769243,
           2231740,
           251280,
           6702201,
           3563055,
           2583470,
           1357690
          ],
          "sizemode": "area",
          "sizeref": 258592.0725,
          "symbol": "circle"
         },
         "mode": "markers",
         "name": "Eastern Europe",
         "showlegend": true,
         "type": "scattergeo"
        },
        {
         "geo": "geo",
         "hovertemplate": "<b>%{hovertext}</b><br><br>Continente=Oceania<br>Cases=%{marker.size}<br>iso_alpha=%{location}<extra></extra>",
         "hovertext": [
          "Australia",
          "New Zealand"
         ],
         "legendgroup": "Oceania",
         "locations": [
          "AUS",
          "NZL"
         ],
         "marker": {
          "color": "#FF97FF",
          "size": [
           11861161,
           2646131
          ],
          "sizemode": "area",
          "sizeref": 258592.0725,
          "symbol": "circle"
         },
         "mode": "markers",
         "name": "Oceania",
         "showlegend": true,
         "type": "scattergeo"
        }
       ],
       "layout": {
        "geo": {
         "center": {},
         "domain": {
          "x": [
           0,
           1
          ],
          "y": [
           0,
           1
          ]
         },
         "projection": {
          "type": "natural earth"
         }
        },
        "legend": {
         "itemsizing": "constant",
         "title": {
          "text": "Continente"
         },
         "tracegroupgap": 0
        },
        "template": {
         "data": {
          "bar": [
           {
            "error_x": {
             "color": "#2a3f5f"
            },
            "error_y": {
             "color": "#2a3f5f"
            },
            "marker": {
             "line": {
              "color": "#E5ECF6",
              "width": 0.5
             },
             "pattern": {
              "fillmode": "overlay",
              "size": 10,
              "solidity": 0.2
             }
            },
            "type": "bar"
           }
          ],
          "barpolar": [
           {
            "marker": {
             "line": {
              "color": "#E5ECF6",
              "width": 0.5
             },
             "pattern": {
              "fillmode": "overlay",
              "size": 10,
              "solidity": 0.2
             }
            },
            "type": "barpolar"
           }
          ],
          "carpet": [
           {
            "aaxis": {
             "endlinecolor": "#2a3f5f",
             "gridcolor": "white",
             "linecolor": "white",
             "minorgridcolor": "white",
             "startlinecolor": "#2a3f5f"
            },
            "baxis": {
             "endlinecolor": "#2a3f5f",
             "gridcolor": "white",
             "linecolor": "white",
             "minorgridcolor": "white",
             "startlinecolor": "#2a3f5f"
            },
            "type": "carpet"
           }
          ],
          "choropleth": [
           {
            "colorbar": {
             "outlinewidth": 0,
             "ticks": ""
            },
            "type": "choropleth"
           }
          ],
          "contour": [
           {
            "colorbar": {
             "outlinewidth": 0,
             "ticks": ""
            },
            "colorscale": [
             [
              0,
              "#0d0887"
             ],
             [
              0.1111111111111111,
              "#46039f"
             ],
             [
              0.2222222222222222,
              "#7201a8"
             ],
             [
              0.3333333333333333,
              "#9c179e"
             ],
             [
              0.4444444444444444,
              "#bd3786"
             ],
             [
              0.5555555555555556,
              "#d8576b"
             ],
             [
              0.6666666666666666,
              "#ed7953"
             ],
             [
              0.7777777777777778,
              "#fb9f3a"
             ],
             [
              0.8888888888888888,
              "#fdca26"
             ],
             [
              1,
              "#f0f921"
             ]
            ],
            "type": "contour"
           }
          ],
          "contourcarpet": [
           {
            "colorbar": {
             "outlinewidth": 0,
             "ticks": ""
            },
            "type": "contourcarpet"
           }
          ],
          "heatmap": [
           {
            "colorbar": {
             "outlinewidth": 0,
             "ticks": ""
            },
            "colorscale": [
             [
              0,
              "#0d0887"
             ],
             [
              0.1111111111111111,
              "#46039f"
             ],
             [
              0.2222222222222222,
              "#7201a8"
             ],
             [
              0.3333333333333333,
              "#9c179e"
             ],
             [
              0.4444444444444444,
              "#bd3786"
             ],
             [
              0.5555555555555556,
              "#d8576b"
             ],
             [
              0.6666666666666666,
              "#ed7953"
             ],
             [
              0.7777777777777778,
              "#fb9f3a"
             ],
             [
              0.8888888888888888,
              "#fdca26"
             ],
             [
              1,
              "#f0f921"
             ]
            ],
            "type": "heatmap"
           }
          ],
          "heatmapgl": [
           {
            "colorbar": {
             "outlinewidth": 0,
             "ticks": ""
            },
            "colorscale": [
             [
              0,
              "#0d0887"
             ],
             [
              0.1111111111111111,
              "#46039f"
             ],
             [
              0.2222222222222222,
              "#7201a8"
             ],
             [
              0.3333333333333333,
              "#9c179e"
             ],
             [
              0.4444444444444444,
              "#bd3786"
             ],
             [
              0.5555555555555556,
              "#d8576b"
             ],
             [
              0.6666666666666666,
              "#ed7953"
             ],
             [
              0.7777777777777778,
              "#fb9f3a"
             ],
             [
              0.8888888888888888,
              "#fdca26"
             ],
             [
              1,
              "#f0f921"
             ]
            ],
            "type": "heatmapgl"
           }
          ],
          "histogram": [
           {
            "marker": {
             "pattern": {
              "fillmode": "overlay",
              "size": 10,
              "solidity": 0.2
             }
            },
            "type": "histogram"
           }
          ],
          "histogram2d": [
           {
            "colorbar": {
             "outlinewidth": 0,
             "ticks": ""
            },
            "colorscale": [
             [
              0,
              "#0d0887"
             ],
             [
              0.1111111111111111,
              "#46039f"
             ],
             [
              0.2222222222222222,
              "#7201a8"
             ],
             [
              0.3333333333333333,
              "#9c179e"
             ],
             [
              0.4444444444444444,
              "#bd3786"
             ],
             [
              0.5555555555555556,
              "#d8576b"
             ],
             [
              0.6666666666666666,
              "#ed7953"
             ],
             [
              0.7777777777777778,
              "#fb9f3a"
             ],
             [
              0.8888888888888888,
              "#fdca26"
             ],
             [
              1,
              "#f0f921"
             ]
            ],
            "type": "histogram2d"
           }
          ],
          "histogram2dcontour": [
           {
            "colorbar": {
             "outlinewidth": 0,
             "ticks": ""
            },
            "colorscale": [
             [
              0,
              "#0d0887"
             ],
             [
              0.1111111111111111,
              "#46039f"
             ],
             [
              0.2222222222222222,
              "#7201a8"
             ],
             [
              0.3333333333333333,
              "#9c179e"
             ],
             [
              0.4444444444444444,
              "#bd3786"
             ],
             [
              0.5555555555555556,
              "#d8576b"
             ],
             [
              0.6666666666666666,
              "#ed7953"
             ],
             [
              0.7777777777777778,
              "#fb9f3a"
             ],
             [
              0.8888888888888888,
              "#fdca26"
             ],
             [
              1,
              "#f0f921"
             ]
            ],
            "type": "histogram2dcontour"
           }
          ],
          "mesh3d": [
           {
            "colorbar": {
             "outlinewidth": 0,
             "ticks": ""
            },
            "type": "mesh3d"
           }
          ],
          "parcoords": [
           {
            "line": {
             "colorbar": {
              "outlinewidth": 0,
              "ticks": ""
             }
            },
            "type": "parcoords"
           }
          ],
          "pie": [
           {
            "automargin": true,
            "type": "pie"
           }
          ],
          "scatter": [
           {
            "fillpattern": {
             "fillmode": "overlay",
             "size": 10,
             "solidity": 0.2
            },
            "type": "scatter"
           }
          ],
          "scatter3d": [
           {
            "line": {
             "colorbar": {
              "outlinewidth": 0,
              "ticks": ""
             }
            },
            "marker": {
             "colorbar": {
              "outlinewidth": 0,
              "ticks": ""
             }
            },
            "type": "scatter3d"
           }
          ],
          "scattercarpet": [
           {
            "marker": {
             "colorbar": {
              "outlinewidth": 0,
              "ticks": ""
             }
            },
            "type": "scattercarpet"
           }
          ],
          "scattergeo": [
           {
            "marker": {
             "colorbar": {
              "outlinewidth": 0,
              "ticks": ""
             }
            },
            "type": "scattergeo"
           }
          ],
          "scattergl": [
           {
            "marker": {
             "colorbar": {
              "outlinewidth": 0,
              "ticks": ""
             }
            },
            "type": "scattergl"
           }
          ],
          "scattermapbox": [
           {
            "marker": {
             "colorbar": {
              "outlinewidth": 0,
              "ticks": ""
             }
            },
            "type": "scattermapbox"
           }
          ],
          "scatterpolar": [
           {
            "marker": {
             "colorbar": {
              "outlinewidth": 0,
              "ticks": ""
             }
            },
            "type": "scatterpolar"
           }
          ],
          "scatterpolargl": [
           {
            "marker": {
             "colorbar": {
              "outlinewidth": 0,
              "ticks": ""
             }
            },
            "type": "scatterpolargl"
           }
          ],
          "scatterternary": [
           {
            "marker": {
             "colorbar": {
              "outlinewidth": 0,
              "ticks": ""
             }
            },
            "type": "scatterternary"
           }
          ],
          "surface": [
           {
            "colorbar": {
             "outlinewidth": 0,
             "ticks": ""
            },
            "colorscale": [
             [
              0,
              "#0d0887"
             ],
             [
              0.1111111111111111,
              "#46039f"
             ],
             [
              0.2222222222222222,
              "#7201a8"
             ],
             [
              0.3333333333333333,
              "#9c179e"
             ],
             [
              0.4444444444444444,
              "#bd3786"
             ],
             [
              0.5555555555555556,
              "#d8576b"
             ],
             [
              0.6666666666666666,
              "#ed7953"
             ],
             [
              0.7777777777777778,
              "#fb9f3a"
             ],
             [
              0.8888888888888888,
              "#fdca26"
             ],
             [
              1,
              "#f0f921"
             ]
            ],
            "type": "surface"
           }
          ],
          "table": [
           {
            "cells": {
             "fill": {
              "color": "#EBF0F8"
             },
             "line": {
              "color": "white"
             }
            },
            "header": {
             "fill": {
              "color": "#C8D4E3"
             },
             "line": {
              "color": "white"
             }
            },
            "type": "table"
           }
          ]
         },
         "layout": {
          "annotationdefaults": {
           "arrowcolor": "#2a3f5f",
           "arrowhead": 0,
           "arrowwidth": 1
          },
          "autotypenumbers": "strict",
          "coloraxis": {
           "colorbar": {
            "outlinewidth": 0,
            "ticks": ""
           }
          },
          "colorscale": {
           "diverging": [
            [
             0,
             "#8e0152"
            ],
            [
             0.1,
             "#c51b7d"
            ],
            [
             0.2,
             "#de77ae"
            ],
            [
             0.3,
             "#f1b6da"
            ],
            [
             0.4,
             "#fde0ef"
            ],
            [
             0.5,
             "#f7f7f7"
            ],
            [
             0.6,
             "#e6f5d0"
            ],
            [
             0.7,
             "#b8e186"
            ],
            [
             0.8,
             "#7fbc41"
            ],
            [
             0.9,
             "#4d9221"
            ],
            [
             1,
             "#276419"
            ]
           ],
           "sequential": [
            [
             0,
             "#0d0887"
            ],
            [
             0.1111111111111111,
             "#46039f"
            ],
            [
             0.2222222222222222,
             "#7201a8"
            ],
            [
             0.3333333333333333,
             "#9c179e"
            ],
            [
             0.4444444444444444,
             "#bd3786"
            ],
            [
             0.5555555555555556,
             "#d8576b"
            ],
            [
             0.6666666666666666,
             "#ed7953"
            ],
            [
             0.7777777777777778,
             "#fb9f3a"
            ],
            [
             0.8888888888888888,
             "#fdca26"
            ],
            [
             1,
             "#f0f921"
            ]
           ],
           "sequentialminus": [
            [
             0,
             "#0d0887"
            ],
            [
             0.1111111111111111,
             "#46039f"
            ],
            [
             0.2222222222222222,
             "#7201a8"
            ],
            [
             0.3333333333333333,
             "#9c179e"
            ],
            [
             0.4444444444444444,
             "#bd3786"
            ],
            [
             0.5555555555555556,
             "#d8576b"
            ],
            [
             0.6666666666666666,
             "#ed7953"
            ],
            [
             0.7777777777777778,
             "#fb9f3a"
            ],
            [
             0.8888888888888888,
             "#fdca26"
            ],
            [
             1,
             "#f0f921"
            ]
           ]
          },
          "colorway": [
           "#636efa",
           "#EF553B",
           "#00cc96",
           "#ab63fa",
           "#FFA15A",
           "#19d3f3",
           "#FF6692",
           "#B6E880",
           "#FF97FF",
           "#FECB52"
          ],
          "font": {
           "color": "#2a3f5f"
          },
          "geo": {
           "bgcolor": "white",
           "lakecolor": "white",
           "landcolor": "#E5ECF6",
           "showlakes": true,
           "showland": true,
           "subunitcolor": "white"
          },
          "hoverlabel": {
           "align": "left"
          },
          "hovermode": "closest",
          "mapbox": {
           "style": "light"
          },
          "paper_bgcolor": "white",
          "plot_bgcolor": "#E5ECF6",
          "polar": {
           "angularaxis": {
            "gridcolor": "white",
            "linecolor": "white",
            "ticks": ""
           },
           "bgcolor": "#E5ECF6",
           "radialaxis": {
            "gridcolor": "white",
            "linecolor": "white",
            "ticks": ""
           }
          },
          "scene": {
           "xaxis": {
            "backgroundcolor": "#E5ECF6",
            "gridcolor": "white",
            "gridwidth": 2,
            "linecolor": "white",
            "showbackground": true,
            "ticks": "",
            "zerolinecolor": "white"
           },
           "yaxis": {
            "backgroundcolor": "#E5ECF6",
            "gridcolor": "white",
            "gridwidth": 2,
            "linecolor": "white",
            "showbackground": true,
            "ticks": "",
            "zerolinecolor": "white"
           },
           "zaxis": {
            "backgroundcolor": "#E5ECF6",
            "gridcolor": "white",
            "gridwidth": 2,
            "linecolor": "white",
            "showbackground": true,
            "ticks": "",
            "zerolinecolor": "white"
           }
          },
          "shapedefaults": {
           "line": {
            "color": "#2a3f5f"
           }
          },
          "ternary": {
           "aaxis": {
            "gridcolor": "white",
            "linecolor": "white",
            "ticks": ""
           },
           "baxis": {
            "gridcolor": "white",
            "linecolor": "white",
            "ticks": ""
           },
           "bgcolor": "#E5ECF6",
           "caxis": {
            "gridcolor": "white",
            "linecolor": "white",
            "ticks": ""
           }
          },
          "title": {
           "x": 0.05
          },
          "xaxis": {
           "automargin": true,
           "gridcolor": "white",
           "linecolor": "white",
           "ticks": "",
           "title": {
            "standoff": 15
           },
           "zerolinecolor": "white",
           "zerolinewidth": 2
          },
          "yaxis": {
           "automargin": true,
           "gridcolor": "white",
           "linecolor": "white",
           "ticks": "",
           "title": {
            "standoff": 15
           },
           "zerolinecolor": "white",
           "zerolinewidth": 2
          }
         }
        },
        "title": {
         "text": "Casos de COVID en el Mundo"
        }
       }
      }
     },
     "metadata": {},
     "output_type": "display_data"
    }
   ],
   "source": [
    "### Grafica Coreleptica\n",
    "\n",
    "acronimos_paises = px.data.gapminder()\n",
    "acronimos_paises=acronimos_paises.drop('year', axis=1)\n",
    "acronimos_paises=acronimos_paises.drop('lifeExp', axis=1)\n",
    "acronimos_paises=acronimos_paises.drop('pop', axis=1)\n",
    "acronimos_paises=acronimos_paises.drop('gdpPercap', axis=1)\n",
    "\n",
    "acronimos_paises = acronimos_paises.drop_duplicates()\n",
    "data_mapa = pd.merge(data, acronimos_paises, left_on='Pais', right_on='country', how='inner')\n",
    "fig4=px.scatter_geo(data_mapa,locations=\"iso_alpha\",color=\"Continente\",hover_name=\"Pais\",size=\"Cases\",projection=\"natural earth\", title=\"Casos de COVID en el Mundo\")\n",
    "fig4.show()"
   ]
  },
  {
   "cell_type": "markdown",
   "metadata": {},
   "source": [
    "# (V.ii): Realidad Local\n",
    "# Reporte Sur America"
   ]
  },
  {
   "cell_type": "code",
   "execution_count": 20,
   "metadata": {},
   "outputs": [
    {
     "data": {
      "text/html": [
       "<style type=\"text/css\">\n",
       "#T_6c720_row0_col0, #T_6c720_row0_col1, #T_6c720_row0_col2, #T_6c720_row0_col3, #T_6c720_row0_col4, #T_6c720_row0_col5, #T_6c720_row0_col6, #T_6c720_row0_col7, #T_6c720_row1_col0, #T_6c720_row1_col1, #T_6c720_row1_col2, #T_6c720_row1_col3, #T_6c720_row1_col4, #T_6c720_row1_col5, #T_6c720_row1_col6, #T_6c720_row1_col7, #T_6c720_row2_col0, #T_6c720_row2_col1, #T_6c720_row2_col2, #T_6c720_row2_col3, #T_6c720_row2_col4, #T_6c720_row2_col5, #T_6c720_row2_col6, #T_6c720_row2_col7, #T_6c720_row3_col0, #T_6c720_row3_col1, #T_6c720_row3_col2, #T_6c720_row3_col3, #T_6c720_row3_col4, #T_6c720_row3_col5, #T_6c720_row3_col6, #T_6c720_row3_col7, #T_6c720_row4_col0, #T_6c720_row4_col1, #T_6c720_row4_col2, #T_6c720_row4_col3, #T_6c720_row4_col4, #T_6c720_row4_col5, #T_6c720_row4_col6, #T_6c720_row4_col7, #T_6c720_row5_col0, #T_6c720_row5_col1, #T_6c720_row5_col2, #T_6c720_row5_col3, #T_6c720_row5_col4, #T_6c720_row5_col5, #T_6c720_row5_col6, #T_6c720_row5_col7, #T_6c720_row6_col0, #T_6c720_row6_col1, #T_6c720_row6_col2, #T_6c720_row6_col3, #T_6c720_row6_col4, #T_6c720_row6_col5, #T_6c720_row6_col6, #T_6c720_row6_col7, #T_6c720_row7_col0, #T_6c720_row7_col1, #T_6c720_row7_col2, #T_6c720_row7_col3, #T_6c720_row7_col4, #T_6c720_row7_col5, #T_6c720_row7_col6, #T_6c720_row7_col7, #T_6c720_row8_col0, #T_6c720_row8_col1, #T_6c720_row8_col2, #T_6c720_row8_col3, #T_6c720_row8_col4, #T_6c720_row8_col5, #T_6c720_row8_col6, #T_6c720_row8_col7, #T_6c720_row9_col0, #T_6c720_row9_col1, #T_6c720_row9_col2, #T_6c720_row9_col3, #T_6c720_row9_col4, #T_6c720_row9_col5, #T_6c720_row9_col6, #T_6c720_row9_col7, #T_6c720_row10_col0, #T_6c720_row10_col1, #T_6c720_row10_col2, #T_6c720_row10_col3, #T_6c720_row10_col4, #T_6c720_row10_col5, #T_6c720_row10_col6, #T_6c720_row10_col7, #T_6c720_row11_col0, #T_6c720_row11_col1, #T_6c720_row11_col2, #T_6c720_row11_col3, #T_6c720_row11_col4, #T_6c720_row11_col5, #T_6c720_row11_col6, #T_6c720_row11_col7, #T_6c720_row12_col0, #T_6c720_row12_col1, #T_6c720_row12_col2, #T_6c720_row12_col3, #T_6c720_row12_col4, #T_6c720_row12_col5, #T_6c720_row12_col6, #T_6c720_row12_col7, #T_6c720_row13_col0, #T_6c720_row13_col1, #T_6c720_row13_col2, #T_6c720_row13_col3, #T_6c720_row13_col4, #T_6c720_row13_col5, #T_6c720_row13_col6, #T_6c720_row13_col7 {\n",
       "  border: 1px solid black;\n",
       "}\n",
       "</style>\n",
       "<table id=\"T_6c720\">\n",
       "  <thead>\n",
       "    <tr>\n",
       "      <th class=\"blank level0\" >&nbsp;</th>\n",
       "      <th id=\"T_6c720_level0_col0\" class=\"col_heading level0 col0\" >Positivos_COVID</th>\n",
       "      <th id=\"T_6c720_level0_col1\" class=\"col_heading level0 col1\" >Defunciones</th>\n",
       "      <th id=\"T_6c720_level0_col2\" class=\"col_heading level0 col2\" >Sanados</th>\n",
       "      <th id=\"T_6c720_level0_col3\" class=\"col_heading level0 col3\" >Edad Promedio</th>\n",
       "      <th id=\"T_6c720_level0_col4\" class=\"col_heading level0 col4\" >Sanados/Confirmados %</th>\n",
       "      <th id=\"T_6c720_level0_col5\" class=\"col_heading level0 col5\" >Defunciones/Confirmados %</th>\n",
       "      <th id=\"T_6c720_level0_col6\" class=\"col_heading level0 col6\" >Population-2024</th>\n",
       "      <th id=\"T_6c720_level0_col7\" class=\"col_heading level0 col7\" >Pais</th>\n",
       "    </tr>\n",
       "    <tr>\n",
       "      <th class=\"index_name level0\" >Pais</th>\n",
       "      <th class=\"blank col0\" >&nbsp;</th>\n",
       "      <th class=\"blank col1\" >&nbsp;</th>\n",
       "      <th class=\"blank col2\" >&nbsp;</th>\n",
       "      <th class=\"blank col3\" >&nbsp;</th>\n",
       "      <th class=\"blank col4\" >&nbsp;</th>\n",
       "      <th class=\"blank col5\" >&nbsp;</th>\n",
       "      <th class=\"blank col6\" >&nbsp;</th>\n",
       "      <th class=\"blank col7\" >&nbsp;</th>\n",
       "    </tr>\n",
       "  </thead>\n",
       "  <tbody>\n",
       "    <tr>\n",
       "      <th id=\"T_6c720_level0_row0\" class=\"row_heading level0 row0\" >Argentina</th>\n",
       "      <td id=\"T_6c720_row0_col0\" class=\"data row0 col0\" >10102262</td>\n",
       "      <td id=\"T_6c720_row0_col1\" class=\"data row0 col1\" >130671</td>\n",
       "      <td id=\"T_6c720_row0_col2\" class=\"data row0 col2\" >9971591</td>\n",
       "      <td id=\"T_6c720_row0_col3\" class=\"data row0 col3\" >33.000000</td>\n",
       "      <td id=\"T_6c720_row0_col4\" class=\"data row0 col4\" >98.706517</td>\n",
       "      <td id=\"T_6c720_row0_col5\" class=\"data row0 col5\" >1.293483</td>\n",
       "      <td id=\"T_6c720_row0_col6\" class=\"data row0 col6\" >45696159.000000</td>\n",
       "      <td id=\"T_6c720_row0_col7\" class=\"data row0 col7\" >Argentina</td>\n",
       "    </tr>\n",
       "    <tr>\n",
       "      <th id=\"T_6c720_level0_row1\" class=\"row_heading level0 row1\" >Bolivia</th>\n",
       "      <td id=\"T_6c720_row1_col0\" class=\"data row1 col0\" >1212149</td>\n",
       "      <td id=\"T_6c720_row1_col1\" class=\"data row1 col1\" >22387</td>\n",
       "      <td id=\"T_6c720_row1_col2\" class=\"data row1 col2\" >1189762</td>\n",
       "      <td id=\"T_6c720_row1_col3\" class=\"data row1 col3\" >25.000000</td>\n",
       "      <td id=\"T_6c720_row1_col4\" class=\"data row1 col4\" >98.153115</td>\n",
       "      <td id=\"T_6c720_row1_col5\" class=\"data row1 col5\" >1.846885</td>\n",
       "      <td id=\"T_6c720_row1_col6\" class=\"data row1 col6\" >12413315.000000</td>\n",
       "      <td id=\"T_6c720_row1_col7\" class=\"data row1 col7\" >Bolivia</td>\n",
       "    </tr>\n",
       "    <tr>\n",
       "      <th id=\"T_6c720_level0_row2\" class=\"row_heading level0 row2\" >Brazil</th>\n",
       "      <td id=\"T_6c720_row2_col0\" class=\"data row2 col0\" >37511921</td>\n",
       "      <td id=\"T_6c720_row2_col1\" class=\"data row2 col1\" >702116</td>\n",
       "      <td id=\"T_6c720_row2_col2\" class=\"data row2 col2\" >36809805</td>\n",
       "      <td id=\"T_6c720_row2_col3\" class=\"data row2 col3\" >34.000000</td>\n",
       "      <td id=\"T_6c720_row2_col4\" class=\"data row2 col4\" >98.128286</td>\n",
       "      <td id=\"T_6c720_row2_col5\" class=\"data row2 col5\" >1.871714</td>\n",
       "      <td id=\"T_6c720_row2_col6\" class=\"data row2 col6\" >211998573.000000</td>\n",
       "      <td id=\"T_6c720_row2_col7\" class=\"data row2 col7\" >Brazil</td>\n",
       "    </tr>\n",
       "    <tr>\n",
       "      <th id=\"T_6c720_level0_row3\" class=\"row_heading level0 row3\" >Chile</th>\n",
       "      <td id=\"T_6c720_row3_col0\" class=\"data row3 col0\" >5401806</td>\n",
       "      <td id=\"T_6c720_row3_col1\" class=\"data row3 col1\" >64482</td>\n",
       "      <td id=\"T_6c720_row3_col2\" class=\"data row3 col2\" >5337324</td>\n",
       "      <td id=\"T_6c720_row3_col3\" class=\"data row3 col3\" >36.000000</td>\n",
       "      <td id=\"T_6c720_row3_col4\" class=\"data row3 col4\" >98.806288</td>\n",
       "      <td id=\"T_6c720_row3_col5\" class=\"data row3 col5\" >1.193712</td>\n",
       "      <td id=\"T_6c720_row3_col6\" class=\"data row3 col6\" >19764771.000000</td>\n",
       "      <td id=\"T_6c720_row3_col7\" class=\"data row3 col7\" >Chile</td>\n",
       "    </tr>\n",
       "    <tr>\n",
       "      <th id=\"T_6c720_level0_row4\" class=\"row_heading level0 row4\" >Colombia</th>\n",
       "      <td id=\"T_6c720_row4_col0\" class=\"data row4 col0\" >6393753</td>\n",
       "      <td id=\"T_6c720_row4_col1\" class=\"data row4 col1\" >142727</td>\n",
       "      <td id=\"T_6c720_row4_col2\" class=\"data row4 col2\" >6251026</td>\n",
       "      <td id=\"T_6c720_row4_col3\" class=\"data row4 col3\" >32.000000</td>\n",
       "      <td id=\"T_6c720_row4_col4\" class=\"data row4 col4\" >97.767712</td>\n",
       "      <td id=\"T_6c720_row4_col5\" class=\"data row4 col5\" >2.232288</td>\n",
       "      <td id=\"T_6c720_row4_col6\" class=\"data row4 col6\" >52886363.000000</td>\n",
       "      <td id=\"T_6c720_row4_col7\" class=\"data row4 col7\" >Colombia</td>\n",
       "    </tr>\n",
       "    <tr>\n",
       "      <th id=\"T_6c720_level0_row5\" class=\"row_heading level0 row5\" >Ecuador</th>\n",
       "      <td id=\"T_6c720_row5_col0\" class=\"data row5 col0\" >1078505</td>\n",
       "      <td id=\"T_6c720_row5_col1\" class=\"data row5 col1\" >36052</td>\n",
       "      <td id=\"T_6c720_row5_col2\" class=\"data row5 col2\" >1042453</td>\n",
       "      <td id=\"T_6c720_row5_col3\" class=\"data row5 col3\" >29.000000</td>\n",
       "      <td id=\"T_6c720_row5_col4\" class=\"data row5 col4\" >96.657225</td>\n",
       "      <td id=\"T_6c720_row5_col5\" class=\"data row5 col5\" >3.342775</td>\n",
       "      <td id=\"T_6c720_row5_col6\" class=\"data row5 col6\" >18135478.000000</td>\n",
       "      <td id=\"T_6c720_row5_col7\" class=\"data row5 col7\" >Ecuador</td>\n",
       "    </tr>\n",
       "    <tr>\n",
       "      <th id=\"T_6c720_level0_row6\" class=\"row_heading level0 row6\" >Falkland Islands</th>\n",
       "      <td id=\"T_6c720_row6_col0\" class=\"data row6 col0\" >1923</td>\n",
       "      <td id=\"T_6c720_row6_col1\" class=\"data row6 col1\" >0</td>\n",
       "      <td id=\"T_6c720_row6_col2\" class=\"data row6 col2\" >1923</td>\n",
       "      <td id=\"T_6c720_row6_col3\" class=\"data row6 col3\" >42.000000</td>\n",
       "      <td id=\"T_6c720_row6_col4\" class=\"data row6 col4\" >100.000000</td>\n",
       "      <td id=\"T_6c720_row6_col5\" class=\"data row6 col5\" >0.000000</td>\n",
       "      <td id=\"T_6c720_row6_col6\" class=\"data row6 col6\" >3.470000</td>\n",
       "      <td id=\"T_6c720_row6_col7\" class=\"data row6 col7\" >Falkland Islands</td>\n",
       "    </tr>\n",
       "    <tr>\n",
       "      <th id=\"T_6c720_level0_row7\" class=\"row_heading level0 row7\" >French Guiana</th>\n",
       "      <td id=\"T_6c720_row7_col0\" class=\"data row7 col0\" >98041</td>\n",
       "      <td id=\"T_6c720_row7_col1\" class=\"data row7 col1\" >413</td>\n",
       "      <td id=\"T_6c720_row7_col2\" class=\"data row7 col2\" >97628</td>\n",
       "      <td id=\"T_6c720_row7_col3\" class=\"data row7 col3\" >25.000000</td>\n",
       "      <td id=\"T_6c720_row7_col4\" class=\"data row7 col4\" >99.578748</td>\n",
       "      <td id=\"T_6c720_row7_col5\" class=\"data row7 col5\" >0.421252</td>\n",
       "      <td id=\"T_6c720_row7_col6\" class=\"data row7 col6\" >308522.000000</td>\n",
       "      <td id=\"T_6c720_row7_col7\" class=\"data row7 col7\" >French Guiana</td>\n",
       "    </tr>\n",
       "    <tr>\n",
       "      <th id=\"T_6c720_level0_row8\" class=\"row_heading level0 row8\" >Guyana</th>\n",
       "      <td id=\"T_6c720_row8_col0\" class=\"data row8 col0\" >74485</td>\n",
       "      <td id=\"T_6c720_row8_col1\" class=\"data row8 col1\" >1302</td>\n",
       "      <td id=\"T_6c720_row8_col2\" class=\"data row8 col2\" >73183</td>\n",
       "      <td id=\"T_6c720_row8_col3\" class=\"data row8 col3\" >26.000000</td>\n",
       "      <td id=\"T_6c720_row8_col4\" class=\"data row8 col4\" >98.251997</td>\n",
       "      <td id=\"T_6c720_row8_col5\" class=\"data row8 col5\" >1.748003</td>\n",
       "      <td id=\"T_6c720_row8_col6\" class=\"data row8 col6\" >831087.000000</td>\n",
       "      <td id=\"T_6c720_row8_col7\" class=\"data row8 col7\" >Guyana</td>\n",
       "    </tr>\n",
       "    <tr>\n",
       "      <th id=\"T_6c720_level0_row9\" class=\"row_heading level0 row9\" >Paraguay</th>\n",
       "      <td id=\"T_6c720_row9_col0\" class=\"data row9 col0\" >735759</td>\n",
       "      <td id=\"T_6c720_row9_col1\" class=\"data row9 col1\" >19880</td>\n",
       "      <td id=\"T_6c720_row9_col2\" class=\"data row9 col2\" >715879</td>\n",
       "      <td id=\"T_6c720_row9_col3\" class=\"data row9 col3\" >27.000000</td>\n",
       "      <td id=\"T_6c720_row9_col4\" class=\"data row9 col4\" >97.298028</td>\n",
       "      <td id=\"T_6c720_row9_col5\" class=\"data row9 col5\" >2.701972</td>\n",
       "      <td id=\"T_6c720_row9_col6\" class=\"data row9 col6\" >6929153.000000</td>\n",
       "      <td id=\"T_6c720_row9_col7\" class=\"data row9 col7\" >Paraguay</td>\n",
       "    </tr>\n",
       "    <tr>\n",
       "      <th id=\"T_6c720_level0_row10\" class=\"row_heading level0 row10\" >Peru</th>\n",
       "      <td id=\"T_6c720_row10_col0\" class=\"data row10 col0\" >4526977</td>\n",
       "      <td id=\"T_6c720_row10_col1\" class=\"data row10 col1\" >220975</td>\n",
       "      <td id=\"T_6c720_row10_col2\" class=\"data row10 col2\" >4306002</td>\n",
       "      <td id=\"T_6c720_row10_col3\" class=\"data row10 col3\" >30.000000</td>\n",
       "      <td id=\"T_6c720_row10_col4\" class=\"data row10 col4\" >95.118707</td>\n",
       "      <td id=\"T_6c720_row10_col5\" class=\"data row10 col5\" >4.881293</td>\n",
       "      <td id=\"T_6c720_row10_col6\" class=\"data row10 col6\" >34217848.000000</td>\n",
       "      <td id=\"T_6c720_row10_col7\" class=\"data row10 col7\" >Peru</td>\n",
       "    </tr>\n",
       "    <tr>\n",
       "      <th id=\"T_6c720_level0_row11\" class=\"row_heading level0 row11\" >Suriname</th>\n",
       "      <td id=\"T_6c720_row11_col0\" class=\"data row11 col0\" >82502</td>\n",
       "      <td id=\"T_6c720_row11_col1\" class=\"data row11 col1\" >1406</td>\n",
       "      <td id=\"T_6c720_row11_col2\" class=\"data row11 col2\" >81096</td>\n",
       "      <td id=\"T_6c720_row11_col3\" class=\"data row11 col3\" >28.000000</td>\n",
       "      <td id=\"T_6c720_row11_col4\" class=\"data row11 col4\" >98.295799</td>\n",
       "      <td id=\"T_6c720_row11_col5\" class=\"data row11 col5\" >1.704201</td>\n",
       "      <td id=\"T_6c720_row11_col6\" class=\"data row11 col6\" >634431.000000</td>\n",
       "      <td id=\"T_6c720_row11_col7\" class=\"data row11 col7\" >Suriname</td>\n",
       "    </tr>\n",
       "    <tr>\n",
       "      <th id=\"T_6c720_level0_row12\" class=\"row_heading level0 row12\" >Uruguay</th>\n",
       "      <td id=\"T_6c720_row12_col0\" class=\"data row12 col0\" >1041424</td>\n",
       "      <td id=\"T_6c720_row12_col1\" class=\"data row12 col1\" >7682</td>\n",
       "      <td id=\"T_6c720_row12_col2\" class=\"data row12 col2\" >1033742</td>\n",
       "      <td id=\"T_6c720_row12_col3\" class=\"data row12 col3\" >36.000000</td>\n",
       "      <td id=\"T_6c720_row12_col4\" class=\"data row12 col4\" >99.262356</td>\n",
       "      <td id=\"T_6c720_row12_col5\" class=\"data row12 col5\" >0.737644</td>\n",
       "      <td id=\"T_6c720_row12_col6\" class=\"data row12 col6\" >3386588.000000</td>\n",
       "      <td id=\"T_6c720_row12_col7\" class=\"data row12 col7\" >Uruguay</td>\n",
       "    </tr>\n",
       "    <tr>\n",
       "      <th id=\"T_6c720_level0_row13\" class=\"row_heading level0 row13\" >Venezuela</th>\n",
       "      <td id=\"T_6c720_row13_col0\" class=\"data row13 col0\" >552695</td>\n",
       "      <td id=\"T_6c720_row13_col1\" class=\"data row13 col1\" >5856</td>\n",
       "      <td id=\"T_6c720_row13_col2\" class=\"data row13 col2\" >546839</td>\n",
       "      <td id=\"T_6c720_row13_col3\" class=\"data row13 col3\" >29.000000</td>\n",
       "      <td id=\"T_6c720_row13_col4\" class=\"data row13 col4\" >98.940464</td>\n",
       "      <td id=\"T_6c720_row13_col5\" class=\"data row13 col5\" >1.059536</td>\n",
       "      <td id=\"T_6c720_row13_col6\" class=\"data row13 col6\" >28405543.000000</td>\n",
       "      <td id=\"T_6c720_row13_col7\" class=\"data row13 col7\" >Venezuela</td>\n",
       "    </tr>\n",
       "  </tbody>\n",
       "</table>\n"
      ],
      "text/plain": [
       "<pandas.io.formats.style.Styler at 0x1761d11cbb0>"
      ]
     },
     "execution_count": 20,
     "metadata": {},
     "output_type": "execute_result"
    }
   ],
   "source": [
    "data_south_america = data[data[\"Continente\"] == \"South America\"]\n",
    "data_local=pd.DataFrame()\n",
    "data_local['Positivos_COVID'] = data_south_america.groupby(\"Pais\")[\"Cases\"].sum()\n",
    "data_local['Defunciones'] = data_south_america.groupby(\"Pais\")[\"Deaths\"].sum()\n",
    "data_local['Sanados'] = data_south_america.groupby(\"Pais\")[\"Sanados\"].sum()\n",
    "data_local['Edad Promedio'] = data_south_america.groupby(\"Pais\")[\"Med._Rate_AAge\"].mean()\n",
    "data_local['Sanados/Confirmados %']=(data_south_america.groupby(\"Pais\")[\"Sanados\"].sum()/data_south_america.groupby(\"Pais\")[\"Cases\"].sum())*100\n",
    "data_local['Defunciones/Confirmados %']=(data_south_america.groupby(\"Pais\")[\"Deaths\"].sum()/data_south_america.groupby(\"Pais\")[\"Cases\"].sum())*100\n",
    "data_local['Population-2024'] = data_south_america.groupby(\"Pais\")[\"Population-2024\"].sum()\n",
    "data_local['Pais'] = data_local.index\n",
    "style_df(data_local)"
   ]
  },
  {
   "cell_type": "code",
   "execution_count": 21,
   "metadata": {},
   "outputs": [
    {
     "data": {
      "application/vnd.plotly.v1+json": {
       "config": {
        "plotlyServerURL": "https://plot.ly"
       },
       "data": [
        {
         "alignmentgroup": "True",
         "hovertemplate": "Pais=%{x}<br>Population-2024=%{y}<extra></extra>",
         "legendgroup": "",
         "marker": {
          "color": "#636efa",
          "pattern": {
           "shape": ""
          }
         },
         "name": "",
         "offsetgroup": "",
         "orientation": "v",
         "showlegend": false,
         "textposition": "auto",
         "type": "bar",
         "x": [
          "Brazil",
          "Colombia",
          "Argentina",
          "Peru",
          "Venezuela",
          "Chile",
          "Ecuador",
          "Bolivia",
          "Paraguay",
          "Uruguay",
          "Guyana",
          "Suriname",
          "French Guiana",
          "Falkland Islands"
         ],
         "xaxis": "x",
         "y": [
          211998573,
          52886363,
          45696159,
          34217848,
          28405543,
          19764771,
          18135478,
          12413315,
          6929153,
          3386588,
          831087,
          634431,
          308522,
          3.47
         ],
         "yaxis": "y"
        }
       ],
       "layout": {
        "barmode": "relative",
        "legend": {
         "tracegroupgap": 0
        },
        "template": {
         "data": {
          "bar": [
           {
            "error_x": {
             "color": "#2a3f5f"
            },
            "error_y": {
             "color": "#2a3f5f"
            },
            "marker": {
             "line": {
              "color": "#E5ECF6",
              "width": 0.5
             },
             "pattern": {
              "fillmode": "overlay",
              "size": 10,
              "solidity": 0.2
             }
            },
            "type": "bar"
           }
          ],
          "barpolar": [
           {
            "marker": {
             "line": {
              "color": "#E5ECF6",
              "width": 0.5
             },
             "pattern": {
              "fillmode": "overlay",
              "size": 10,
              "solidity": 0.2
             }
            },
            "type": "barpolar"
           }
          ],
          "carpet": [
           {
            "aaxis": {
             "endlinecolor": "#2a3f5f",
             "gridcolor": "white",
             "linecolor": "white",
             "minorgridcolor": "white",
             "startlinecolor": "#2a3f5f"
            },
            "baxis": {
             "endlinecolor": "#2a3f5f",
             "gridcolor": "white",
             "linecolor": "white",
             "minorgridcolor": "white",
             "startlinecolor": "#2a3f5f"
            },
            "type": "carpet"
           }
          ],
          "choropleth": [
           {
            "colorbar": {
             "outlinewidth": 0,
             "ticks": ""
            },
            "type": "choropleth"
           }
          ],
          "contour": [
           {
            "colorbar": {
             "outlinewidth": 0,
             "ticks": ""
            },
            "colorscale": [
             [
              0,
              "#0d0887"
             ],
             [
              0.1111111111111111,
              "#46039f"
             ],
             [
              0.2222222222222222,
              "#7201a8"
             ],
             [
              0.3333333333333333,
              "#9c179e"
             ],
             [
              0.4444444444444444,
              "#bd3786"
             ],
             [
              0.5555555555555556,
              "#d8576b"
             ],
             [
              0.6666666666666666,
              "#ed7953"
             ],
             [
              0.7777777777777778,
              "#fb9f3a"
             ],
             [
              0.8888888888888888,
              "#fdca26"
             ],
             [
              1,
              "#f0f921"
             ]
            ],
            "type": "contour"
           }
          ],
          "contourcarpet": [
           {
            "colorbar": {
             "outlinewidth": 0,
             "ticks": ""
            },
            "type": "contourcarpet"
           }
          ],
          "heatmap": [
           {
            "colorbar": {
             "outlinewidth": 0,
             "ticks": ""
            },
            "colorscale": [
             [
              0,
              "#0d0887"
             ],
             [
              0.1111111111111111,
              "#46039f"
             ],
             [
              0.2222222222222222,
              "#7201a8"
             ],
             [
              0.3333333333333333,
              "#9c179e"
             ],
             [
              0.4444444444444444,
              "#bd3786"
             ],
             [
              0.5555555555555556,
              "#d8576b"
             ],
             [
              0.6666666666666666,
              "#ed7953"
             ],
             [
              0.7777777777777778,
              "#fb9f3a"
             ],
             [
              0.8888888888888888,
              "#fdca26"
             ],
             [
              1,
              "#f0f921"
             ]
            ],
            "type": "heatmap"
           }
          ],
          "heatmapgl": [
           {
            "colorbar": {
             "outlinewidth": 0,
             "ticks": ""
            },
            "colorscale": [
             [
              0,
              "#0d0887"
             ],
             [
              0.1111111111111111,
              "#46039f"
             ],
             [
              0.2222222222222222,
              "#7201a8"
             ],
             [
              0.3333333333333333,
              "#9c179e"
             ],
             [
              0.4444444444444444,
              "#bd3786"
             ],
             [
              0.5555555555555556,
              "#d8576b"
             ],
             [
              0.6666666666666666,
              "#ed7953"
             ],
             [
              0.7777777777777778,
              "#fb9f3a"
             ],
             [
              0.8888888888888888,
              "#fdca26"
             ],
             [
              1,
              "#f0f921"
             ]
            ],
            "type": "heatmapgl"
           }
          ],
          "histogram": [
           {
            "marker": {
             "pattern": {
              "fillmode": "overlay",
              "size": 10,
              "solidity": 0.2
             }
            },
            "type": "histogram"
           }
          ],
          "histogram2d": [
           {
            "colorbar": {
             "outlinewidth": 0,
             "ticks": ""
            },
            "colorscale": [
             [
              0,
              "#0d0887"
             ],
             [
              0.1111111111111111,
              "#46039f"
             ],
             [
              0.2222222222222222,
              "#7201a8"
             ],
             [
              0.3333333333333333,
              "#9c179e"
             ],
             [
              0.4444444444444444,
              "#bd3786"
             ],
             [
              0.5555555555555556,
              "#d8576b"
             ],
             [
              0.6666666666666666,
              "#ed7953"
             ],
             [
              0.7777777777777778,
              "#fb9f3a"
             ],
             [
              0.8888888888888888,
              "#fdca26"
             ],
             [
              1,
              "#f0f921"
             ]
            ],
            "type": "histogram2d"
           }
          ],
          "histogram2dcontour": [
           {
            "colorbar": {
             "outlinewidth": 0,
             "ticks": ""
            },
            "colorscale": [
             [
              0,
              "#0d0887"
             ],
             [
              0.1111111111111111,
              "#46039f"
             ],
             [
              0.2222222222222222,
              "#7201a8"
             ],
             [
              0.3333333333333333,
              "#9c179e"
             ],
             [
              0.4444444444444444,
              "#bd3786"
             ],
             [
              0.5555555555555556,
              "#d8576b"
             ],
             [
              0.6666666666666666,
              "#ed7953"
             ],
             [
              0.7777777777777778,
              "#fb9f3a"
             ],
             [
              0.8888888888888888,
              "#fdca26"
             ],
             [
              1,
              "#f0f921"
             ]
            ],
            "type": "histogram2dcontour"
           }
          ],
          "mesh3d": [
           {
            "colorbar": {
             "outlinewidth": 0,
             "ticks": ""
            },
            "type": "mesh3d"
           }
          ],
          "parcoords": [
           {
            "line": {
             "colorbar": {
              "outlinewidth": 0,
              "ticks": ""
             }
            },
            "type": "parcoords"
           }
          ],
          "pie": [
           {
            "automargin": true,
            "type": "pie"
           }
          ],
          "scatter": [
           {
            "fillpattern": {
             "fillmode": "overlay",
             "size": 10,
             "solidity": 0.2
            },
            "type": "scatter"
           }
          ],
          "scatter3d": [
           {
            "line": {
             "colorbar": {
              "outlinewidth": 0,
              "ticks": ""
             }
            },
            "marker": {
             "colorbar": {
              "outlinewidth": 0,
              "ticks": ""
             }
            },
            "type": "scatter3d"
           }
          ],
          "scattercarpet": [
           {
            "marker": {
             "colorbar": {
              "outlinewidth": 0,
              "ticks": ""
             }
            },
            "type": "scattercarpet"
           }
          ],
          "scattergeo": [
           {
            "marker": {
             "colorbar": {
              "outlinewidth": 0,
              "ticks": ""
             }
            },
            "type": "scattergeo"
           }
          ],
          "scattergl": [
           {
            "marker": {
             "colorbar": {
              "outlinewidth": 0,
              "ticks": ""
             }
            },
            "type": "scattergl"
           }
          ],
          "scattermapbox": [
           {
            "marker": {
             "colorbar": {
              "outlinewidth": 0,
              "ticks": ""
             }
            },
            "type": "scattermapbox"
           }
          ],
          "scatterpolar": [
           {
            "marker": {
             "colorbar": {
              "outlinewidth": 0,
              "ticks": ""
             }
            },
            "type": "scatterpolar"
           }
          ],
          "scatterpolargl": [
           {
            "marker": {
             "colorbar": {
              "outlinewidth": 0,
              "ticks": ""
             }
            },
            "type": "scatterpolargl"
           }
          ],
          "scatterternary": [
           {
            "marker": {
             "colorbar": {
              "outlinewidth": 0,
              "ticks": ""
             }
            },
            "type": "scatterternary"
           }
          ],
          "surface": [
           {
            "colorbar": {
             "outlinewidth": 0,
             "ticks": ""
            },
            "colorscale": [
             [
              0,
              "#0d0887"
             ],
             [
              0.1111111111111111,
              "#46039f"
             ],
             [
              0.2222222222222222,
              "#7201a8"
             ],
             [
              0.3333333333333333,
              "#9c179e"
             ],
             [
              0.4444444444444444,
              "#bd3786"
             ],
             [
              0.5555555555555556,
              "#d8576b"
             ],
             [
              0.6666666666666666,
              "#ed7953"
             ],
             [
              0.7777777777777778,
              "#fb9f3a"
             ],
             [
              0.8888888888888888,
              "#fdca26"
             ],
             [
              1,
              "#f0f921"
             ]
            ],
            "type": "surface"
           }
          ],
          "table": [
           {
            "cells": {
             "fill": {
              "color": "#EBF0F8"
             },
             "line": {
              "color": "white"
             }
            },
            "header": {
             "fill": {
              "color": "#C8D4E3"
             },
             "line": {
              "color": "white"
             }
            },
            "type": "table"
           }
          ]
         },
         "layout": {
          "annotationdefaults": {
           "arrowcolor": "#2a3f5f",
           "arrowhead": 0,
           "arrowwidth": 1
          },
          "autotypenumbers": "strict",
          "coloraxis": {
           "colorbar": {
            "outlinewidth": 0,
            "ticks": ""
           }
          },
          "colorscale": {
           "diverging": [
            [
             0,
             "#8e0152"
            ],
            [
             0.1,
             "#c51b7d"
            ],
            [
             0.2,
             "#de77ae"
            ],
            [
             0.3,
             "#f1b6da"
            ],
            [
             0.4,
             "#fde0ef"
            ],
            [
             0.5,
             "#f7f7f7"
            ],
            [
             0.6,
             "#e6f5d0"
            ],
            [
             0.7,
             "#b8e186"
            ],
            [
             0.8,
             "#7fbc41"
            ],
            [
             0.9,
             "#4d9221"
            ],
            [
             1,
             "#276419"
            ]
           ],
           "sequential": [
            [
             0,
             "#0d0887"
            ],
            [
             0.1111111111111111,
             "#46039f"
            ],
            [
             0.2222222222222222,
             "#7201a8"
            ],
            [
             0.3333333333333333,
             "#9c179e"
            ],
            [
             0.4444444444444444,
             "#bd3786"
            ],
            [
             0.5555555555555556,
             "#d8576b"
            ],
            [
             0.6666666666666666,
             "#ed7953"
            ],
            [
             0.7777777777777778,
             "#fb9f3a"
            ],
            [
             0.8888888888888888,
             "#fdca26"
            ],
            [
             1,
             "#f0f921"
            ]
           ],
           "sequentialminus": [
            [
             0,
             "#0d0887"
            ],
            [
             0.1111111111111111,
             "#46039f"
            ],
            [
             0.2222222222222222,
             "#7201a8"
            ],
            [
             0.3333333333333333,
             "#9c179e"
            ],
            [
             0.4444444444444444,
             "#bd3786"
            ],
            [
             0.5555555555555556,
             "#d8576b"
            ],
            [
             0.6666666666666666,
             "#ed7953"
            ],
            [
             0.7777777777777778,
             "#fb9f3a"
            ],
            [
             0.8888888888888888,
             "#fdca26"
            ],
            [
             1,
             "#f0f921"
            ]
           ]
          },
          "colorway": [
           "#636efa",
           "#EF553B",
           "#00cc96",
           "#ab63fa",
           "#FFA15A",
           "#19d3f3",
           "#FF6692",
           "#B6E880",
           "#FF97FF",
           "#FECB52"
          ],
          "font": {
           "color": "#2a3f5f"
          },
          "geo": {
           "bgcolor": "white",
           "lakecolor": "white",
           "landcolor": "#E5ECF6",
           "showlakes": true,
           "showland": true,
           "subunitcolor": "white"
          },
          "hoverlabel": {
           "align": "left"
          },
          "hovermode": "closest",
          "mapbox": {
           "style": "light"
          },
          "paper_bgcolor": "white",
          "plot_bgcolor": "#E5ECF6",
          "polar": {
           "angularaxis": {
            "gridcolor": "white",
            "linecolor": "white",
            "ticks": ""
           },
           "bgcolor": "#E5ECF6",
           "radialaxis": {
            "gridcolor": "white",
            "linecolor": "white",
            "ticks": ""
           }
          },
          "scene": {
           "xaxis": {
            "backgroundcolor": "#E5ECF6",
            "gridcolor": "white",
            "gridwidth": 2,
            "linecolor": "white",
            "showbackground": true,
            "ticks": "",
            "zerolinecolor": "white"
           },
           "yaxis": {
            "backgroundcolor": "#E5ECF6",
            "gridcolor": "white",
            "gridwidth": 2,
            "linecolor": "white",
            "showbackground": true,
            "ticks": "",
            "zerolinecolor": "white"
           },
           "zaxis": {
            "backgroundcolor": "#E5ECF6",
            "gridcolor": "white",
            "gridwidth": 2,
            "linecolor": "white",
            "showbackground": true,
            "ticks": "",
            "zerolinecolor": "white"
           }
          },
          "shapedefaults": {
           "line": {
            "color": "#2a3f5f"
           }
          },
          "ternary": {
           "aaxis": {
            "gridcolor": "white",
            "linecolor": "white",
            "ticks": ""
           },
           "baxis": {
            "gridcolor": "white",
            "linecolor": "white",
            "ticks": ""
           },
           "bgcolor": "#E5ECF6",
           "caxis": {
            "gridcolor": "white",
            "linecolor": "white",
            "ticks": ""
           }
          },
          "title": {
           "x": 0.05
          },
          "xaxis": {
           "automargin": true,
           "gridcolor": "white",
           "linecolor": "white",
           "ticks": "",
           "title": {
            "standoff": 15
           },
           "zerolinecolor": "white",
           "zerolinewidth": 2
          },
          "yaxis": {
           "automargin": true,
           "gridcolor": "white",
           "linecolor": "white",
           "ticks": "",
           "title": {
            "standoff": 15
           },
           "zerolinecolor": "white",
           "zerolinewidth": 2
          }
         }
        },
        "title": {
         "text": "Población x Pais Sudamericano"
        },
        "xaxis": {
         "anchor": "y",
         "domain": [
          0,
          1
         ],
         "title": {
          "text": "Pais"
         }
        },
        "yaxis": {
         "anchor": "x",
         "domain": [
          0,
          1
         ],
         "title": {
          "text": "Population-2024"
         }
        }
       }
      }
     },
     "metadata": {},
     "output_type": "display_data"
    }
   ],
   "source": [
    "fig=px.bar(data[data[\"Continente\"] == \"South America\"].sort_values(by='Population-2024', ascending=False),x='Pais',y='Population-2024',title='Población x Pais Sudamericano')\n",
    "fig.show()"
   ]
  },
  {
   "cell_type": "code",
   "execution_count": 22,
   "metadata": {},
   "outputs": [
    {
     "data": {
      "application/vnd.plotly.v1+json": {
       "config": {
        "plotlyServerURL": "https://plot.ly"
       },
       "data": [
        {
         "hovertemplate": "<b>%{hovertext}</b><br><br>Pais=Argentina<br>Continente=South America<br>Cases=%{marker.size}<br>Deaths=%{y}<extra></extra>",
         "hovertext": [
          "Argentina"
         ],
         "legendgroup": "Argentina",
         "marker": {
          "color": "#F8766D",
          "size": [
           10102262
          ],
          "sizemode": "area",
          "sizeref": 18524.405432098767,
          "symbol": "circle"
         },
         "mode": "markers",
         "name": "Argentina",
         "orientation": "v",
         "showlegend": true,
         "type": "scatter",
         "x": [
          10102262
         ],
         "xaxis": "x",
         "y": [
          130671
         ],
         "yaxis": "y"
        },
        {
         "hovertemplate": "<b>%{hovertext}</b><br><br>Pais=Bolivia<br>Continente=South America<br>Cases=%{marker.size}<br>Deaths=%{y}<extra></extra>",
         "hovertext": [
          "Bolivia"
         ],
         "legendgroup": "Bolivia",
         "marker": {
          "color": "#A3A500",
          "size": [
           1212149
          ],
          "sizemode": "area",
          "sizeref": 18524.405432098767,
          "symbol": "circle"
         },
         "mode": "markers",
         "name": "Bolivia",
         "orientation": "v",
         "showlegend": true,
         "type": "scatter",
         "x": [
          1212149
         ],
         "xaxis": "x",
         "y": [
          22387
         ],
         "yaxis": "y"
        },
        {
         "hovertemplate": "<b>%{hovertext}</b><br><br>Pais=Brazil<br>Continente=South America<br>Cases=%{marker.size}<br>Deaths=%{y}<extra></extra>",
         "hovertext": [
          "Brazil"
         ],
         "legendgroup": "Brazil",
         "marker": {
          "color": "#00BF7D",
          "size": [
           37511921
          ],
          "sizemode": "area",
          "sizeref": 18524.405432098767,
          "symbol": "circle"
         },
         "mode": "markers",
         "name": "Brazil",
         "orientation": "v",
         "showlegend": true,
         "type": "scatter",
         "x": [
          37511921
         ],
         "xaxis": "x",
         "y": [
          702116
         ],
         "yaxis": "y"
        },
        {
         "hovertemplate": "<b>%{hovertext}</b><br><br>Pais=Chile<br>Continente=South America<br>Cases=%{marker.size}<br>Deaths=%{y}<extra></extra>",
         "hovertext": [
          "Chile"
         ],
         "legendgroup": "Chile",
         "marker": {
          "color": "#00B0F6",
          "size": [
           5401806
          ],
          "sizemode": "area",
          "sizeref": 18524.405432098767,
          "symbol": "circle"
         },
         "mode": "markers",
         "name": "Chile",
         "orientation": "v",
         "showlegend": true,
         "type": "scatter",
         "x": [
          5401806
         ],
         "xaxis": "x",
         "y": [
          64482
         ],
         "yaxis": "y"
        },
        {
         "hovertemplate": "<b>%{hovertext}</b><br><br>Pais=Colombia<br>Continente=South America<br>Cases=%{marker.size}<br>Deaths=%{y}<extra></extra>",
         "hovertext": [
          "Colombia"
         ],
         "legendgroup": "Colombia",
         "marker": {
          "color": "#E76BF3",
          "size": [
           6393753
          ],
          "sizemode": "area",
          "sizeref": 18524.405432098767,
          "symbol": "circle"
         },
         "mode": "markers",
         "name": "Colombia",
         "orientation": "v",
         "showlegend": true,
         "type": "scatter",
         "x": [
          6393753
         ],
         "xaxis": "x",
         "y": [
          142727
         ],
         "yaxis": "y"
        },
        {
         "hovertemplate": "<b>%{hovertext}</b><br><br>Pais=Ecuador<br>Continente=South America<br>Cases=%{marker.size}<br>Deaths=%{y}<extra></extra>",
         "hovertext": [
          "Ecuador"
         ],
         "legendgroup": "Ecuador",
         "marker": {
          "color": "#F8766D",
          "size": [
           1078505
          ],
          "sizemode": "area",
          "sizeref": 18524.405432098767,
          "symbol": "circle"
         },
         "mode": "markers",
         "name": "Ecuador",
         "orientation": "v",
         "showlegend": true,
         "type": "scatter",
         "x": [
          1078505
         ],
         "xaxis": "x",
         "y": [
          36052
         ],
         "yaxis": "y"
        },
        {
         "hovertemplate": "<b>%{hovertext}</b><br><br>Pais=Guyana<br>Continente=South America<br>Cases=%{marker.size}<br>Deaths=%{y}<extra></extra>",
         "hovertext": [
          "Guyana"
         ],
         "legendgroup": "Guyana",
         "marker": {
          "color": "#A3A500",
          "size": [
           74485
          ],
          "sizemode": "area",
          "sizeref": 18524.405432098767,
          "symbol": "circle"
         },
         "mode": "markers",
         "name": "Guyana",
         "orientation": "v",
         "showlegend": true,
         "type": "scatter",
         "x": [
          74485
         ],
         "xaxis": "x",
         "y": [
          1302
         ],
         "yaxis": "y"
        },
        {
         "hovertemplate": "<b>%{hovertext}</b><br><br>Pais=Paraguay<br>Continente=South America<br>Cases=%{marker.size}<br>Deaths=%{y}<extra></extra>",
         "hovertext": [
          "Paraguay"
         ],
         "legendgroup": "Paraguay",
         "marker": {
          "color": "#00BF7D",
          "size": [
           735759
          ],
          "sizemode": "area",
          "sizeref": 18524.405432098767,
          "symbol": "circle"
         },
         "mode": "markers",
         "name": "Paraguay",
         "orientation": "v",
         "showlegend": true,
         "type": "scatter",
         "x": [
          735759
         ],
         "xaxis": "x",
         "y": [
          19880
         ],
         "yaxis": "y"
        },
        {
         "hovertemplate": "<b>%{hovertext}</b><br><br>Pais=Peru<br>Continente=South America<br>Cases=%{marker.size}<br>Deaths=%{y}<extra></extra>",
         "hovertext": [
          "Peru"
         ],
         "legendgroup": "Peru",
         "marker": {
          "color": "#00B0F6",
          "size": [
           4526977
          ],
          "sizemode": "area",
          "sizeref": 18524.405432098767,
          "symbol": "circle"
         },
         "mode": "markers",
         "name": "Peru",
         "orientation": "v",
         "showlegend": true,
         "type": "scatter",
         "x": [
          4526977
         ],
         "xaxis": "x",
         "y": [
          220975
         ],
         "yaxis": "y"
        },
        {
         "hovertemplate": "<b>%{hovertext}</b><br><br>Pais=Suriname<br>Continente=South America<br>Cases=%{marker.size}<br>Deaths=%{y}<extra></extra>",
         "hovertext": [
          "Suriname"
         ],
         "legendgroup": "Suriname",
         "marker": {
          "color": "#E76BF3",
          "size": [
           82502
          ],
          "sizemode": "area",
          "sizeref": 18524.405432098767,
          "symbol": "circle"
         },
         "mode": "markers",
         "name": "Suriname",
         "orientation": "v",
         "showlegend": true,
         "type": "scatter",
         "x": [
          82502
         ],
         "xaxis": "x",
         "y": [
          1406
         ],
         "yaxis": "y"
        },
        {
         "hovertemplate": "<b>%{hovertext}</b><br><br>Pais=Uruguay<br>Continente=South America<br>Cases=%{marker.size}<br>Deaths=%{y}<extra></extra>",
         "hovertext": [
          "Uruguay"
         ],
         "legendgroup": "Uruguay",
         "marker": {
          "color": "#F8766D",
          "size": [
           1041424
          ],
          "sizemode": "area",
          "sizeref": 18524.405432098767,
          "symbol": "circle"
         },
         "mode": "markers",
         "name": "Uruguay",
         "orientation": "v",
         "showlegend": true,
         "type": "scatter",
         "x": [
          1041424
         ],
         "xaxis": "x",
         "y": [
          7682
         ],
         "yaxis": "y"
        },
        {
         "hovertemplate": "<b>%{hovertext}</b><br><br>Pais=Venezuela<br>Continente=South America<br>Cases=%{marker.size}<br>Deaths=%{y}<extra></extra>",
         "hovertext": [
          "Venezuela"
         ],
         "legendgroup": "Venezuela",
         "marker": {
          "color": "#A3A500",
          "size": [
           552695
          ],
          "sizemode": "area",
          "sizeref": 18524.405432098767,
          "symbol": "circle"
         },
         "mode": "markers",
         "name": "Venezuela",
         "orientation": "v",
         "showlegend": true,
         "type": "scatter",
         "x": [
          552695
         ],
         "xaxis": "x",
         "y": [
          5856
         ],
         "yaxis": "y"
        },
        {
         "hovertemplate": "<b>%{hovertext}</b><br><br>Pais=French Guiana<br>Continente=South America<br>Cases=%{marker.size}<br>Deaths=%{y}<extra></extra>",
         "hovertext": [
          "French Guiana"
         ],
         "legendgroup": "French Guiana",
         "marker": {
          "color": "#00BF7D",
          "size": [
           98041
          ],
          "sizemode": "area",
          "sizeref": 18524.405432098767,
          "symbol": "circle"
         },
         "mode": "markers",
         "name": "French Guiana",
         "orientation": "v",
         "showlegend": true,
         "type": "scatter",
         "x": [
          98041
         ],
         "xaxis": "x",
         "y": [
          413
         ],
         "yaxis": "y"
        },
        {
         "hovertemplate": "<b>%{hovertext}</b><br><br>Pais=Falkland Islands<br>Continente=South America<br>Cases=%{marker.size}<br>Deaths=%{y}<extra></extra>",
         "hovertext": [
          "Falkland Islands"
         ],
         "legendgroup": "Falkland Islands",
         "marker": {
          "color": "#00B0F6",
          "size": [
           1923
          ],
          "sizemode": "area",
          "sizeref": 18524.405432098767,
          "symbol": "circle"
         },
         "mode": "markers",
         "name": "Falkland Islands",
         "orientation": "v",
         "showlegend": true,
         "type": "scatter",
         "x": [
          1923
         ],
         "xaxis": "x",
         "y": [
          0
         ],
         "yaxis": "y"
        }
       ],
       "layout": {
        "annotations": [
         {
          "font": {},
          "showarrow": false,
          "text": "Continente=South America",
          "x": 0.5,
          "xanchor": "center",
          "xref": "paper",
          "y": 1,
          "yanchor": "bottom",
          "yref": "paper"
         }
        ],
        "legend": {
         "itemsizing": "constant",
         "title": {
          "text": "Pais"
         },
         "tracegroupgap": 0
        },
        "template": {
         "data": {
          "bar": [
           {
            "error_x": {
             "color": "rgb(51,51,51)"
            },
            "error_y": {
             "color": "rgb(51,51,51)"
            },
            "marker": {
             "line": {
              "color": "rgb(237,237,237)",
              "width": 0.5
             },
             "pattern": {
              "fillmode": "overlay",
              "size": 10,
              "solidity": 0.2
             }
            },
            "type": "bar"
           }
          ],
          "barpolar": [
           {
            "marker": {
             "line": {
              "color": "rgb(237,237,237)",
              "width": 0.5
             },
             "pattern": {
              "fillmode": "overlay",
              "size": 10,
              "solidity": 0.2
             }
            },
            "type": "barpolar"
           }
          ],
          "carpet": [
           {
            "aaxis": {
             "endlinecolor": "rgb(51,51,51)",
             "gridcolor": "white",
             "linecolor": "white",
             "minorgridcolor": "white",
             "startlinecolor": "rgb(51,51,51)"
            },
            "baxis": {
             "endlinecolor": "rgb(51,51,51)",
             "gridcolor": "white",
             "linecolor": "white",
             "minorgridcolor": "white",
             "startlinecolor": "rgb(51,51,51)"
            },
            "type": "carpet"
           }
          ],
          "choropleth": [
           {
            "colorbar": {
             "outlinewidth": 0,
             "tickcolor": "rgb(237,237,237)",
             "ticklen": 6,
             "ticks": "inside"
            },
            "type": "choropleth"
           }
          ],
          "contour": [
           {
            "colorbar": {
             "outlinewidth": 0,
             "tickcolor": "rgb(237,237,237)",
             "ticklen": 6,
             "ticks": "inside"
            },
            "colorscale": [
             [
              0,
              "rgb(20,44,66)"
             ],
             [
              1,
              "rgb(90,179,244)"
             ]
            ],
            "type": "contour"
           }
          ],
          "contourcarpet": [
           {
            "colorbar": {
             "outlinewidth": 0,
             "tickcolor": "rgb(237,237,237)",
             "ticklen": 6,
             "ticks": "inside"
            },
            "type": "contourcarpet"
           }
          ],
          "heatmap": [
           {
            "colorbar": {
             "outlinewidth": 0,
             "tickcolor": "rgb(237,237,237)",
             "ticklen": 6,
             "ticks": "inside"
            },
            "colorscale": [
             [
              0,
              "rgb(20,44,66)"
             ],
             [
              1,
              "rgb(90,179,244)"
             ]
            ],
            "type": "heatmap"
           }
          ],
          "heatmapgl": [
           {
            "colorbar": {
             "outlinewidth": 0,
             "tickcolor": "rgb(237,237,237)",
             "ticklen": 6,
             "ticks": "inside"
            },
            "colorscale": [
             [
              0,
              "rgb(20,44,66)"
             ],
             [
              1,
              "rgb(90,179,244)"
             ]
            ],
            "type": "heatmapgl"
           }
          ],
          "histogram": [
           {
            "marker": {
             "pattern": {
              "fillmode": "overlay",
              "size": 10,
              "solidity": 0.2
             }
            },
            "type": "histogram"
           }
          ],
          "histogram2d": [
           {
            "colorbar": {
             "outlinewidth": 0,
             "tickcolor": "rgb(237,237,237)",
             "ticklen": 6,
             "ticks": "inside"
            },
            "colorscale": [
             [
              0,
              "rgb(20,44,66)"
             ],
             [
              1,
              "rgb(90,179,244)"
             ]
            ],
            "type": "histogram2d"
           }
          ],
          "histogram2dcontour": [
           {
            "colorbar": {
             "outlinewidth": 0,
             "tickcolor": "rgb(237,237,237)",
             "ticklen": 6,
             "ticks": "inside"
            },
            "colorscale": [
             [
              0,
              "rgb(20,44,66)"
             ],
             [
              1,
              "rgb(90,179,244)"
             ]
            ],
            "type": "histogram2dcontour"
           }
          ],
          "mesh3d": [
           {
            "colorbar": {
             "outlinewidth": 0,
             "tickcolor": "rgb(237,237,237)",
             "ticklen": 6,
             "ticks": "inside"
            },
            "type": "mesh3d"
           }
          ],
          "parcoords": [
           {
            "line": {
             "colorbar": {
              "outlinewidth": 0,
              "tickcolor": "rgb(237,237,237)",
              "ticklen": 6,
              "ticks": "inside"
             }
            },
            "type": "parcoords"
           }
          ],
          "pie": [
           {
            "automargin": true,
            "type": "pie"
           }
          ],
          "scatter": [
           {
            "fillpattern": {
             "fillmode": "overlay",
             "size": 10,
             "solidity": 0.2
            },
            "type": "scatter"
           }
          ],
          "scatter3d": [
           {
            "line": {
             "colorbar": {
              "outlinewidth": 0,
              "tickcolor": "rgb(237,237,237)",
              "ticklen": 6,
              "ticks": "inside"
             }
            },
            "marker": {
             "colorbar": {
              "outlinewidth": 0,
              "tickcolor": "rgb(237,237,237)",
              "ticklen": 6,
              "ticks": "inside"
             }
            },
            "type": "scatter3d"
           }
          ],
          "scattercarpet": [
           {
            "marker": {
             "colorbar": {
              "outlinewidth": 0,
              "tickcolor": "rgb(237,237,237)",
              "ticklen": 6,
              "ticks": "inside"
             }
            },
            "type": "scattercarpet"
           }
          ],
          "scattergeo": [
           {
            "marker": {
             "colorbar": {
              "outlinewidth": 0,
              "tickcolor": "rgb(237,237,237)",
              "ticklen": 6,
              "ticks": "inside"
             }
            },
            "type": "scattergeo"
           }
          ],
          "scattergl": [
           {
            "marker": {
             "colorbar": {
              "outlinewidth": 0,
              "tickcolor": "rgb(237,237,237)",
              "ticklen": 6,
              "ticks": "inside"
             }
            },
            "type": "scattergl"
           }
          ],
          "scattermapbox": [
           {
            "marker": {
             "colorbar": {
              "outlinewidth": 0,
              "tickcolor": "rgb(237,237,237)",
              "ticklen": 6,
              "ticks": "inside"
             }
            },
            "type": "scattermapbox"
           }
          ],
          "scatterpolar": [
           {
            "marker": {
             "colorbar": {
              "outlinewidth": 0,
              "tickcolor": "rgb(237,237,237)",
              "ticklen": 6,
              "ticks": "inside"
             }
            },
            "type": "scatterpolar"
           }
          ],
          "scatterpolargl": [
           {
            "marker": {
             "colorbar": {
              "outlinewidth": 0,
              "tickcolor": "rgb(237,237,237)",
              "ticklen": 6,
              "ticks": "inside"
             }
            },
            "type": "scatterpolargl"
           }
          ],
          "scatterternary": [
           {
            "marker": {
             "colorbar": {
              "outlinewidth": 0,
              "tickcolor": "rgb(237,237,237)",
              "ticklen": 6,
              "ticks": "inside"
             }
            },
            "type": "scatterternary"
           }
          ],
          "surface": [
           {
            "colorbar": {
             "outlinewidth": 0,
             "tickcolor": "rgb(237,237,237)",
             "ticklen": 6,
             "ticks": "inside"
            },
            "colorscale": [
             [
              0,
              "rgb(20,44,66)"
             ],
             [
              1,
              "rgb(90,179,244)"
             ]
            ],
            "type": "surface"
           }
          ],
          "table": [
           {
            "cells": {
             "fill": {
              "color": "rgb(237,237,237)"
             },
             "line": {
              "color": "white"
             }
            },
            "header": {
             "fill": {
              "color": "rgb(217,217,217)"
             },
             "line": {
              "color": "white"
             }
            },
            "type": "table"
           }
          ]
         },
         "layout": {
          "annotationdefaults": {
           "arrowhead": 0,
           "arrowwidth": 1
          },
          "autotypenumbers": "strict",
          "coloraxis": {
           "colorbar": {
            "outlinewidth": 0,
            "tickcolor": "rgb(237,237,237)",
            "ticklen": 6,
            "ticks": "inside"
           }
          },
          "colorscale": {
           "sequential": [
            [
             0,
             "rgb(20,44,66)"
            ],
            [
             1,
             "rgb(90,179,244)"
            ]
           ],
           "sequentialminus": [
            [
             0,
             "rgb(20,44,66)"
            ],
            [
             1,
             "rgb(90,179,244)"
            ]
           ]
          },
          "colorway": [
           "#F8766D",
           "#A3A500",
           "#00BF7D",
           "#00B0F6",
           "#E76BF3"
          ],
          "font": {
           "color": "rgb(51,51,51)"
          },
          "geo": {
           "bgcolor": "white",
           "lakecolor": "white",
           "landcolor": "rgb(237,237,237)",
           "showlakes": true,
           "showland": true,
           "subunitcolor": "white"
          },
          "hoverlabel": {
           "align": "left"
          },
          "hovermode": "closest",
          "paper_bgcolor": "white",
          "plot_bgcolor": "rgb(237,237,237)",
          "polar": {
           "angularaxis": {
            "gridcolor": "white",
            "linecolor": "white",
            "showgrid": true,
            "tickcolor": "rgb(51,51,51)",
            "ticks": "outside"
           },
           "bgcolor": "rgb(237,237,237)",
           "radialaxis": {
            "gridcolor": "white",
            "linecolor": "white",
            "showgrid": true,
            "tickcolor": "rgb(51,51,51)",
            "ticks": "outside"
           }
          },
          "scene": {
           "xaxis": {
            "backgroundcolor": "rgb(237,237,237)",
            "gridcolor": "white",
            "gridwidth": 2,
            "linecolor": "white",
            "showbackground": true,
            "showgrid": true,
            "tickcolor": "rgb(51,51,51)",
            "ticks": "outside",
            "zerolinecolor": "white"
           },
           "yaxis": {
            "backgroundcolor": "rgb(237,237,237)",
            "gridcolor": "white",
            "gridwidth": 2,
            "linecolor": "white",
            "showbackground": true,
            "showgrid": true,
            "tickcolor": "rgb(51,51,51)",
            "ticks": "outside",
            "zerolinecolor": "white"
           },
           "zaxis": {
            "backgroundcolor": "rgb(237,237,237)",
            "gridcolor": "white",
            "gridwidth": 2,
            "linecolor": "white",
            "showbackground": true,
            "showgrid": true,
            "tickcolor": "rgb(51,51,51)",
            "ticks": "outside",
            "zerolinecolor": "white"
           }
          },
          "shapedefaults": {
           "fillcolor": "black",
           "line": {
            "width": 0
           },
           "opacity": 0.3
          },
          "ternary": {
           "aaxis": {
            "gridcolor": "white",
            "linecolor": "white",
            "showgrid": true,
            "tickcolor": "rgb(51,51,51)",
            "ticks": "outside"
           },
           "baxis": {
            "gridcolor": "white",
            "linecolor": "white",
            "showgrid": true,
            "tickcolor": "rgb(51,51,51)",
            "ticks": "outside"
           },
           "bgcolor": "rgb(237,237,237)",
           "caxis": {
            "gridcolor": "white",
            "linecolor": "white",
            "showgrid": true,
            "tickcolor": "rgb(51,51,51)",
            "ticks": "outside"
           }
          },
          "xaxis": {
           "automargin": true,
           "gridcolor": "white",
           "linecolor": "white",
           "showgrid": true,
           "tickcolor": "rgb(51,51,51)",
           "ticks": "outside",
           "title": {
            "standoff": 15
           },
           "zerolinecolor": "white"
          },
          "yaxis": {
           "automargin": true,
           "gridcolor": "white",
           "linecolor": "white",
           "showgrid": true,
           "tickcolor": "rgb(51,51,51)",
           "ticks": "outside",
           "title": {
            "standoff": 15
           },
           "zerolinecolor": "white"
          }
         }
        },
        "title": {
         "text": "Relación Positivos COVID y Muertes"
        },
        "xaxis": {
         "anchor": "y",
         "domain": [
          0,
          1
         ],
         "title": {
          "text": "Cases"
         }
        },
        "yaxis": {
         "anchor": "x",
         "domain": [
          0,
          1
         ],
         "title": {
          "text": "Deaths"
         }
        }
       }
      }
     },
     "metadata": {},
     "output_type": "display_data"
    }
   ],
   "source": [
    "fig3=px.scatter(data[data[\"Continente\"] == \"South America\"],x=\"Cases\",y=\"Deaths\",size=\"Cases\",color=\"Pais\",hover_name=\"Pais\",size_max=45,template=\"ggplot2\",facet_col=\"Continente\", title=\"Relación Positivos COVID y Muertes\")\n",
    "\n",
    "fig3.show()"
   ]
  },
  {
   "cell_type": "markdown",
   "metadata": {},
   "source": [
    "# (VI) Exportación de Resultados"
   ]
  },
  {
   "cell_type": "code",
   "execution_count": 23,
   "metadata": {},
   "outputs": [],
   "source": [
    "### Dataset_Consolidado\n",
    "data.to_excel('1.-Data Consolidada - Trabajada.xlsx', index=False) "
   ]
  },
  {
   "cell_type": "code",
   "execution_count": 24,
   "metadata": {},
   "outputs": [],
   "source": [
    "### Reporte Continetal y Sus graficos\n",
    "data_continentes.to_excel('2.-Data Continentes.xlsx', index=False) \n",
    "fig2.write_image(\"2.- Grafica Continental de Muertes y Positivos COVID - Plot.png\")\n",
    "fig4.write_image(\"2.- Grafica Continental de Muertes y Positivos COVID - Mapas.png\")\n"
   ]
  },
  {
   "cell_type": "code",
   "execution_count": 25,
   "metadata": {},
   "outputs": [],
   "source": [
    "### Reporte Latinoamericano y Sus graficos\n",
    "data_local.to_excel('3.-Data Local.xlsx', index=False) \n",
    "fig.write_image(\"3.- Grafica Sudamericana Poblacion x Pais.png\")\n",
    "fig3.write_image(\"3.- Grafica Sudamericana de Muertes y Positivos COVID - Plot.png\")"
   ]
  }
 ],
 "metadata": {
  "kernelspec": {
   "display_name": "Python 3",
   "language": "python",
   "name": "python3"
  },
  "language_info": {
   "codemirror_mode": {
    "name": "ipython",
    "version": 3
   },
   "file_extension": ".py",
   "mimetype": "text/x-python",
   "name": "python",
   "nbconvert_exporter": "python",
   "pygments_lexer": "ipython3",
   "version": "3.10.11"
  }
 },
 "nbformat": 4,
 "nbformat_minor": 2
}
